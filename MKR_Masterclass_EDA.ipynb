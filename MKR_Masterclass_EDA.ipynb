{
 "cells": [
  {
   "cell_type": "markdown",
   "metadata": {},
   "source": [
    "# MKR Masterclass Dataset Analysis\n",
    "\n",
    "## Author : Bhupender Singh\n",
    "\n",
    "## MKR Task - 2\n",
    "\n",
    "### 📌 Problem Statement  - To Clean, Analyze and Visualize The Given MKR Materclass Registeration Datasets\n"
   ]
  },
  {
   "cell_type": "markdown",
   "metadata": {},
   "source": [
    "### Let's Start With Importing The Necessary Modules For This Data Cleaning Task"
   ]
  },
  {
   "cell_type": "code",
   "execution_count": 1,
   "metadata": {},
   "outputs": [],
   "source": [
    "import pandas as pd\n",
    "import numpy as np"
   ]
  },
  {
   "cell_type": "markdown",
   "metadata": {},
   "source": [
    "### Importing All The 7 Datasets"
   ]
  },
  {
   "cell_type": "code",
   "execution_count": 2,
   "metadata": {},
   "outputs": [],
   "source": [
    "df_whatsapp_marketing                =   pd.read_excel('-Masterclass on - Whatsapp Marketing (Responses).xlsx')\n",
    "df_video_editing                     =   pd.read_excel('Basic Video Editing - Masterclass (Responses).xlsx')\n",
    "df_digital_marketing                 =   pd.read_excel('Masterclass - The Basics Of Digital Marketing (Responses).xlsx')\n",
    "df_excel                             =   pd.read_excel('Masterclass - The Basics Of Excel (Responses) (1).xlsx')\n",
    "df_canva_design                      =   pd.read_excel('Masterclass on Basics of Canva - a Graphic Design Platform (Responses).xlsx')\n",
    "df_public_speaking                   =   pd.read_excel('Public Speaking - Masterclass (Responses).xlsx')\n",
    "df_podcast                           =   pd.read_excel('The Podcast - Masterclass (Responses).xlsx')"
   ]
  },
  {
   "cell_type": "markdown",
   "metadata": {},
   "source": [
    "### Creating A New Column For Masterclass Category"
   ]
  },
  {
   "cell_type": "code",
   "execution_count": 3,
   "metadata": {},
   "outputs": [],
   "source": [
    "df_whatsapp_marketing['Masterclass'] = 'Whatsapp Marketing'\n",
    "df_video_editing['Masterclass']      = 'Basic Video Editing'\n",
    "df_digital_marketing['Masterclass']  = 'The Basics Of Digital Marketing'\n",
    "df_excel['Masterclass']              = 'The Basics Of Excel'\n",
    "df_canva_design['Masterclass']       = 'Basics of Canva - A Graphic Design Platform'\n",
    "df_public_speaking['Masterclass']    = 'Public Speaking'\n",
    "df_podcast['Masterclass']            = 'The Podcast'"
   ]
  },
  {
   "cell_type": "markdown",
   "metadata": {},
   "source": [
    "### Dropping All The Unnecessary Columns"
   ]
  },
  {
   "cell_type": "code",
   "execution_count": 4,
   "metadata": {},
   "outputs": [],
   "source": [
    "df_whatsapp_marketing                = df_whatsapp_marketing.drop(['First Name','Last Name','Unnamed: 4','Unnamed: 5'],axis=1)\n",
    "df_video_editing                     = df_video_editing.drop(['First Name','Last Name','Unnamed: 4'],axis=1)\n",
    "df_digital_marketing                 = df_digital_marketing.drop(['First Name','Last Name','Unnamed: 4','Unnamed: 5'],axis=1)\n",
    "df_excel                             = df_excel.drop(['First Name','Last Name','Unnamed: 4'],axis=1)\n",
    "df_canva_design                      = df_canva_design.drop(['First Name','Last Name','Unnamed: 4','Unnamed: 5'],axis=1)\n",
    "df_public_speaking                   = df_public_speaking.drop(['First Name','Last Name','Unnamed: 4','Unnamed: 5'],axis=1)\n",
    "df_podcast                           = df_podcast.drop(['First Name','Last Name','Unnamed: 4','Unnamed: 5'],axis=1)"
   ]
  },
  {
   "cell_type": "markdown",
   "metadata": {},
   "source": [
    "### Extracting The Date From Timestamp Column"
   ]
  },
  {
   "cell_type": "code",
   "execution_count": 5,
   "metadata": {},
   "outputs": [],
   "source": [
    "df_whatsapp_marketing['Date']        = df_whatsapp_marketing['Timestamp'].dt.date\n",
    "df_video_editing['Date']             = df_video_editing['Timestamp'].dt.date\n",
    "df_digital_marketing['Date']         = df_digital_marketing['Timestamp'].dt.date\n",
    "df_excel['Date']                     = df_excel['Timestamp'].dt.date\n",
    "df_canva_design['Date']              = df_canva_design['Timestamp'].dt.date\n",
    "df_public_speaking['Date']           = df_public_speaking['Timestamp'].dt.date\n",
    "df_podcast['Date']                   = df_podcast['Timestamp'].dt.date"
   ]
  },
  {
   "cell_type": "markdown",
   "metadata": {},
   "source": [
    "### Extracting The Time From Timestamp Column(And Converting Second Values To 0 In Time For Better Analysis)"
   ]
  },
  {
   "cell_type": "code",
   "execution_count": 6,
   "metadata": {},
   "outputs": [],
   "source": [
    "df_whatsapp_marketing['Time']        = df_whatsapp_marketing['Timestamp'].dt.strftime('%H:%M:%S').str.replace(':[0-9]+$', ':00')\n",
    "df_video_editing['Time']             = df_video_editing['Timestamp'].dt.strftime('%H:%M:%S').str.replace(':[0-9]+$', ':00')\n",
    "df_digital_marketing['Time']         = df_digital_marketing['Timestamp'].dt.strftime('%H:%M:%S').str.replace(':[0-9]+$', ':00')\n",
    "df_excel['Time']                     = df_excel['Timestamp'].dt.strftime('%H:%M:%S').str.replace(':[0-9]+$', ':00')\n",
    "df_canva_design['Time']              = df_canva_design['Timestamp'].dt.strftime('%H:%M:%S').str.replace(':[0-9]+$', ':00')\n",
    "df_public_speaking['Time']           = df_public_speaking['Timestamp'].dt.strftime('%H:%M:%S').str.replace(':[0-9]+$', ':00')\n",
    "df_podcast['Time']                   = df_podcast['Timestamp'].dt.strftime('%H:%M:%S').str.replace(':[0-9]+$', ':00')"
   ]
  },
  {
   "cell_type": "markdown",
   "metadata": {},
   "source": [
    "### Now Dropping The Original Timestamp Column After Extracting Date & Time"
   ]
  },
  {
   "cell_type": "code",
   "execution_count": 7,
   "metadata": {},
   "outputs": [],
   "source": [
    "df_whatsapp_marketing                = df_whatsapp_marketing.drop(['Timestamp'], axis=1)\n",
    "df_video_editing                     = df_video_editing.drop(['Timestamp'], axis=1)\n",
    "df_digital_marketing                 = df_digital_marketing.drop(['Timestamp'], axis=1)\n",
    "df_excel                             = df_excel.drop(['Timestamp'], axis=1)\n",
    "df_canva_design                      = df_canva_design.drop(['Timestamp'], axis=1)\n",
    "df_public_speaking                   = df_public_speaking.drop(['Timestamp'], axis=1)\n",
    "df_podcast                           = df_podcast.drop(['Timestamp'], axis=1)"
   ]
  },
  {
   "cell_type": "markdown",
   "metadata": {},
   "source": [
    "## 📌 Data Preprocessing On City Column Of 'Whatsapp Marketing' Masterclass Dataset"
   ]
  },
  {
   "cell_type": "code",
   "execution_count": 8,
   "metadata": {
    "scrolled": false
   },
   "outputs": [
    {
     "data": {
      "text/plain": [
       "array(['Ahamdnagar', 'Ahmedabad, Gujarat', 'Ahmednagar', 'Ahmednagar ',\n",
       "       'Akola', 'Allahabad', 'Amravati, Maharashtra ', 'Assam',\n",
       "       'Auragabad', 'Aurangabad', 'BANGALORE', 'BENGALURU', 'Ballabgarh',\n",
       "       'Bangalore', 'Bangalore ', 'Bengaluru', 'Bhilai', 'Bhopal',\n",
       "       'Bhubaneswar', 'Bhusawal', 'Bidar', 'Biharsharif', 'Boisar',\n",
       "       'Buldhana', 'Burhanpur', 'CHAMARAJNAGAR', 'Calicut', 'Chennai',\n",
       "       'Cirimiri', 'Coimbatore', 'DIMAPUR', 'Dehradun', 'Delhi', 'Delhi ',\n",
       "       'Delhi NCR', 'Deulgaon Raja,Buldana', 'Dewas', 'Durg', 'Faridabad',\n",
       "       'Faridabad ', 'GOA', 'Gandhinagar', 'Goalpara', 'Godhara',\n",
       "       'Greater Noida', 'Gurgaon', 'Gurgaon ', 'Gurgoan', 'Gurgram',\n",
       "       'Gurugram', 'Gurugram ', 'Guwahati', 'Guwahati ', 'Gwalior',\n",
       "       'Haldwani', 'Hingoli', 'Hyderabad', 'Ichalkaranji', 'Indore',\n",
       "       'Jabalpur', 'Jaipur', 'Jalandhar', 'Jalna', 'Jalna ', 'Jodhpur',\n",
       "       'Jorhat', 'Kalyan', 'Karauli', 'Katni', 'Khambhat',\n",
       "       'Kharghar, Navi Mumbai - 410210', 'Kochi', 'Kolding', 'Kolhapur',\n",
       "       'Kolkata', 'Kondagaon', 'Kosi', 'Kurukshetra', 'LATUR', 'LUCKNOW',\n",
       "       'Latur', 'Latur maharashtra ', 'Lucknow', 'Lunawada', 'Lusaka',\n",
       "       'M', 'MUMBAI', 'Madhya Pradesh', 'Madurai', 'Malegaon, Nashik',\n",
       "       'Mohali', 'Moradabad', 'Moradabad ', 'Morigaon ', 'Mumbai',\n",
       "       'Mumbai ', 'NAGPUR', 'NEW DELHI', 'Nagaon, Assam. ', 'Nagpur',\n",
       "       'Nagpur Maharashtra', 'Nakonde ', 'Nanded', 'Nashik', 'Nasik',\n",
       "       'New Delhi', 'New Delhi ', 'New delhi', 'Noida', 'PUNE',\n",
       "       'Palampur', 'Palanpur', 'Parli ', 'Pathalgaon', 'Patna',\n",
       "       'Pimpari Chinchwad', 'Pimple Saudagar', 'Pune', 'Pune ',\n",
       "       'Raebareli', 'Rajam', 'Rajkot', 'Ranchi', 'Ranchi ', 'Rewa',\n",
       "       'Rewari', 'Rohtak', 'Rupnagar', 'SILCHAR', 'Saharanpur', 'Saida',\n",
       "       'Salem', 'Secunderabad', 'Shani shingnapur', 'Shimla', 'Silchar',\n",
       "       'Siliguri', 'Singapore ', 'Srimadhopur',\n",
       "       'Sudershan Park,New Delhi', 'Sunyani', 'Tezpur', 'Thane',\n",
       "       'Tuljapur', 'Udaipur', 'Ujjain',\n",
       "       'V.P.O - Mohanpur, DISTT. - Rewari (Haryana)', 'Vadodara',\n",
       "       'Visakhapatnam', 'Visakhapatnam ', 'Washi', 'bangalore', 'delhi',\n",
       "       'gurgoan ', 'haryana', 'hyderabad', 'jaipur', 'nagpur',\n",
       "       'new delhi', 'noida', 'pune', 'sultanpur ', 'vizag'], dtype=object)"
      ]
     },
     "execution_count": 8,
     "metadata": {},
     "output_type": "execute_result"
    }
   ],
   "source": [
    "df_whatsapp_marketing['City'].sort_values().unique()"
   ]
  },
  {
   "cell_type": "code",
   "execution_count": 9,
   "metadata": {},
   "outputs": [],
   "source": [
    "#to convert the city names to lowercase with first letter capital\n",
    "df_whatsapp_marketing['City'] = df_whatsapp_marketing['City'].str.title()"
   ]
  },
  {
   "cell_type": "code",
   "execution_count": 10,
   "metadata": {},
   "outputs": [],
   "source": [
    "#to remove the extra space from left and right side of city names\n",
    "df_whatsapp_marketing['City'] = df_whatsapp_marketing['City'].str.strip()"
   ]
  },
  {
   "cell_type": "markdown",
   "metadata": {},
   "source": [
    "### Cleaning and Replacing The Wrong City Names To Correct Names"
   ]
  },
  {
   "cell_type": "code",
   "execution_count": 11,
   "metadata": {},
   "outputs": [],
   "source": [
    "df_whatsapp_marketing['City'] = df_whatsapp_marketing['City'].replace('Kharghar, Navi Mumbai - 410210','Navi Mumbai')\\\n",
    ".replace('Gurgaon','Gurugram').replace('Gurgoan','Gurugram').replace('Gurgram','Gurugram').replace('New Delhi','Delhi')\\\n",
    ".replace('Sudershan Park,New Delhi','Delhi').replace('Delhi Ncr','Delhi').replace('Auragabad','Aurangabad')\\\n",
    ".replace('Deulgaon Raja,Buldana','Deulgaon Raja').replace('Buldhana','Deulgaon Raja').replace('Kosi','Kosi Kalan')\\\n",
    ".replace('Nagpur Maharashtra','Nagpur').replace('Cirimiri','Chirimiri').replace('Latur Maharashtra','Latur')\\\n",
    ".replace('V.P.O - Mohanpur, Distt. - Rewari (Haryana)','Rewari').replace('Amravati, Maharashtra','Amravati')\\\n",
    ".replace('Vizag','Visakhapatnam').replace('Ahamdnagar','Ahmednagar').replace('Nagaon, Assam.','Nagaon')\\\n",
    ".replace('Malegaon, Nashik','Malegaon').replace('Bangalore','Bengaluru')"
   ]
  },
  {
   "cell_type": "code",
   "execution_count": 12,
   "metadata": {},
   "outputs": [],
   "source": [
    "df_whatsapp_marketing.drop(df_whatsapp_marketing.index[df_whatsapp_marketing['City'] == 'M'], inplace = True)"
   ]
  },
  {
   "cell_type": "code",
   "execution_count": 13,
   "metadata": {},
   "outputs": [
    {
     "data": {
      "text/plain": [
       "array(['Ahmedabad, Gujarat', 'Ahmednagar', 'Akola', 'Allahabad',\n",
       "       'Amravati', 'Assam', 'Aurangabad', 'Ballabgarh', 'Bengaluru',\n",
       "       'Bhilai', 'Bhopal', 'Bhubaneswar', 'Bhusawal', 'Bidar',\n",
       "       'Biharsharif', 'Boisar', 'Burhanpur', 'Calicut', 'Chamarajnagar',\n",
       "       'Chennai', 'Chirimiri', 'Coimbatore', 'Dehradun', 'Delhi',\n",
       "       'Deulgaon Raja', 'Dewas', 'Dimapur', 'Durg', 'Faridabad',\n",
       "       'Gandhinagar', 'Goa', 'Goalpara', 'Godhara', 'Greater Noida',\n",
       "       'Gurugram', 'Guwahati', 'Gwalior', 'Haldwani', 'Haryana',\n",
       "       'Hingoli', 'Hyderabad', 'Ichalkaranji', 'Indore', 'Jabalpur',\n",
       "       'Jaipur', 'Jalandhar', 'Jalna', 'Jodhpur', 'Jorhat', 'Kalyan',\n",
       "       'Karauli', 'Katni', 'Khambhat', 'Kochi', 'Kolding', 'Kolhapur',\n",
       "       'Kolkata', 'Kondagaon', 'Kosi Kalan', 'Kurukshetra', 'Latur',\n",
       "       'Lucknow', 'Lunawada', 'Lusaka', 'Madhya Pradesh', 'Madurai',\n",
       "       'Malegaon', 'Mohali', 'Moradabad', 'Morigaon', 'Mumbai', 'Nagaon',\n",
       "       'Nagpur', 'Nakonde', 'Nanded', 'Nashik', 'Nasik', 'Navi Mumbai',\n",
       "       'Noida', 'Palampur', 'Palanpur', 'Parli', 'Pathalgaon', 'Patna',\n",
       "       'Pimpari Chinchwad', 'Pimple Saudagar', 'Pune', 'Raebareli',\n",
       "       'Rajam', 'Rajkot', 'Ranchi', 'Rewa', 'Rewari', 'Rohtak',\n",
       "       'Rupnagar', 'Saharanpur', 'Saida', 'Salem', 'Secunderabad',\n",
       "       'Shani Shingnapur', 'Shimla', 'Silchar', 'Siliguri', 'Singapore',\n",
       "       'Srimadhopur', 'Sultanpur', 'Sunyani', 'Tezpur', 'Thane',\n",
       "       'Tuljapur', 'Udaipur', 'Ujjain', 'Vadodara', 'Visakhapatnam',\n",
       "       'Washi'], dtype=object)"
      ]
     },
     "execution_count": 13,
     "metadata": {},
     "output_type": "execute_result"
    }
   ],
   "source": [
    "df_whatsapp_marketing['City'].sort_values().unique()"
   ]
  },
  {
   "cell_type": "markdown",
   "metadata": {},
   "source": [
    "## 📌 Data Preprocessing On City Column Of 'Basic Video Editing' Masterclass Dataset"
   ]
  },
  {
   "cell_type": "code",
   "execution_count": 14,
   "metadata": {},
   "outputs": [],
   "source": [
    "#to convert the city names to lowercase with first letter capital\n",
    "df_video_editing['City'] = df_video_editing['City'].str.title()"
   ]
  },
  {
   "cell_type": "code",
   "execution_count": 15,
   "metadata": {},
   "outputs": [],
   "source": [
    "#to remove the extra space from left and right of city names\n",
    "df_video_editing['City'] = df_video_editing['City'].str.strip()"
   ]
  },
  {
   "cell_type": "code",
   "execution_count": 16,
   "metadata": {},
   "outputs": [
    {
     "data": {
      "text/plain": [
       "array(['Agartala', 'Ahmedabad', 'Ahmedabad, Gujarat', 'Ajmer',\n",
       "       'Alappuzha', 'Aligarh', 'Ambur', 'Amritsar', 'Anand', 'Ariyalur',\n",
       "       'Arjuni', 'Aurangabad', 'Aurangabad ,Bihar', 'Baidyapur, Burdwan',\n",
       "       'Ballari', 'Balurghat,South Dinajpur', 'Bangalore', 'Bankura',\n",
       "       'Bareli , Distt- Raisen', 'Barh', 'Baripada, Mayurbhanj',\n",
       "       'Bathinda', 'Beawar', 'Begusarai', 'Bengaluru', 'Bharatpur',\n",
       "       'Bhilai', 'Bhilwara', 'Bhopal', 'Bhubaneswar', 'Bijni',\n",
       "       'Bilasipara', 'Bongaigaon', 'Bongaigaon, Assam', 'Bulandshahr',\n",
       "       'Burdwan', 'Buxar', 'Chakdaha', 'Chandigarh', 'Chennai', 'Chhapra',\n",
       "       'Chikarada (Chittorgarh)', 'Chinchwad', 'Dapoli', 'Darbhanga',\n",
       "       'Dehradoon', 'Dehradun', 'Delhi', 'Dhaka', 'Dhenkanal', 'Dimapur',\n",
       "       'Durg', 'Durgapur', 'Ernakulam', 'Erode', 'Faridabad', 'Gadarpur',\n",
       "       'Gandhidham', 'Gangapur City', 'Gaya', 'Ghaziabad', 'Goa',\n",
       "       'Gohpur', 'Golaghat', 'Gonda', 'Gopalganj', 'Gurgaon', 'Gurugram',\n",
       "       'Guwae', 'Guwahati', 'Guwahati, Assam', 'Haflong', 'Hajipur',\n",
       "       'Handewadi Road', 'Hardoi', 'Hooghly', 'Hoshangabad', 'Hyderabad',\n",
       "       'Imphal', 'Indore', 'Jabalpur', 'Jagdalpur Baster', 'Jaipur',\n",
       "       'Jalgaon', 'Jalgaon Jamod', 'Jalna', 'Jamnagar', 'Janjgir',\n",
       "       'Jeypore', 'Jhansi', 'Jodhpur', 'Jodhpur Rajasthan', 'Jorhat',\n",
       "       'Kanchipuram', 'Kannur', 'Karad', 'Karbi Anglong', 'Karkala',\n",
       "       'Kasaragod', 'Katihar', 'Kekri', 'Kerala', 'Khariar Road', 'Kochi',\n",
       "       'Kolar', 'Kolhapur', 'Kolkata', 'Kondapalli', 'Kopargoan',\n",
       "       'Koraput', 'Kota', 'Kuchaman City', 'Ladakh', 'Lucknow',\n",
       "       'Madhuban', 'Madhubani', 'Madurai', 'Malkapur', 'Mangalore',\n",
       "       'Meerut', 'Mohali', 'Moodbidre', 'Morigaon', 'Mujaffarpur',\n",
       "       'Mumbai', 'Munger Bihar', 'Muscat', 'Muzaffarpur', 'Muzzafurpur',\n",
       "       'Mysuru', 'Nagaon', 'Nagercoil', 'Nagpur', 'Nainital', 'Nalbari',\n",
       "       'Nanded', 'Nashik', 'Nasriganj', 'Navi Mumbai', 'Nellore',\n",
       "       'New Delhi', 'Noida', 'Odisha', 'Pachora', 'Parbhani', 'Patna',\n",
       "       'Patna(Bihar)', 'Pilani', 'Pune', 'Raipur', 'Rajasthan',\n",
       "       'Rajnandgaon', 'Ranchi', 'Rasra', 'Ratlam', 'Ratnagiri',\n",
       "       'Rayagada', 'Rayagada, Odisha.', 'Roorkee', 'Saharanpur',\n",
       "       'Sahibganj', 'Samastip', 'Samastipur', 'Santrampur', 'Shahada',\n",
       "       'Sheoganj', 'Shimla', 'Shirdi', 'Sibsagar', 'Silchar', 'Sitamarhi',\n",
       "       'Solapur', 'Surat', 'Tezpur', 'Tezpur , Assam', 'Tezpur, Assam',\n",
       "       'Thane', 'Thrissur', 'Tinsukia', 'Tirupati', 'Tiruvalla',\n",
       "       'Trivandrum', 'Udaipur', 'Udaipur, Tripura', 'Udupi', 'Vadodara',\n",
       "       'Varanasi', 'Vellore', 'Visakhapatnam', 'Visakhaptnam',\n",
       "       'Vishakapatnam', 'Vizag', 'Wani', 'Wanwarla, Pusad', 'Wardha',\n",
       "       'Yavatamal', 'Yavatmal', 'Yavtmal'], dtype=object)"
      ]
     },
     "execution_count": 16,
     "metadata": {},
     "output_type": "execute_result"
    }
   ],
   "source": [
    "df_video_editing['City'].sort_values().unique()"
   ]
  },
  {
   "cell_type": "markdown",
   "metadata": {},
   "source": [
    "### Cleaning and Replacing The Wrong City Names To Correct Names"
   ]
  },
  {
   "cell_type": "code",
   "execution_count": 17,
   "metadata": {},
   "outputs": [],
   "source": [
    "df_video_editing['City'] = df_video_editing['City'].replace('Gurgaon','Gurugram').replace('New Delhi','Delhi')\\\n",
    ".replace('Baripada, Mayurbhanj','Baripada').replace('Navi Mumbai','Mumbai').replace('Trivandrum','Thiruvananthapuram')\\\n",
    ".replace('Dehradoon','Dehradun').replace('Handewadi Road','Pune').replace('Vishakapatnam','Visakhapatnam')\\\n",
    ".replace('Patna(Bihar)','Patna').replace('Kopargoan','Kopargaon').replace('Tezpur, Assam','Tezpur')\\\n",
    ".replace('Vizag','Visakhapatnam').replace('Yavatamal','Yavatmal').replace('Tezpur , Assam','Tezpur')\\\n",
    ".replace('Arjuni','Morgaon').replace('Guwahati, Assam','Guwahati').replace('Yavtmal','Yavatmal')\\\n",
    ".replace('Chikarada (Chittorgarh)','Chikarada').replace('Visakhaptnam','Visakhapatnam')\\\n",
    ".replace('Bareli , Distt- Raisen','Bareli').replace('Bongaigaon, Assam','Bongaigaon')\\\n",
    ".replace('Rayagada, Odisha.','Rayagada').replace('Moodbidre','Mudbidri').replace('Jodhpur Rajasthan','Jodhpur')\\\n",
    ".replace('Jagdalpur Baster','Jagdalpur').replace('Samastip','Samastipur').replace('Balurghat,South Dinajpur','Balurghat')\\\n",
    ".replace('Ahmedabad, Gujarat','Ahmedabad').replace('Khariar Road','Khariar').replace('Munger Bihar','Munger')\\\n",
    ".replace('Patna(Bihar)','Patna').replace('Bangalore','Bengaluru')"
   ]
  },
  {
   "cell_type": "code",
   "execution_count": 18,
   "metadata": {},
   "outputs": [],
   "source": [
    "df_video_editing.drop(df_video_editing.index[df_video_editing['City'] == 'Guwae'], inplace = True)"
   ]
  },
  {
   "cell_type": "code",
   "execution_count": 19,
   "metadata": {},
   "outputs": [
    {
     "data": {
      "text/plain": [
       "array(['Agartala', 'Ahmedabad', 'Ajmer', 'Alappuzha', 'Aligarh', 'Ambur',\n",
       "       'Amritsar', 'Anand', 'Ariyalur', 'Aurangabad', 'Aurangabad ,Bihar',\n",
       "       'Baidyapur, Burdwan', 'Ballari', 'Balurghat', 'Bankura', 'Bareli',\n",
       "       'Barh', 'Baripada', 'Bathinda', 'Beawar', 'Begusarai', 'Bengaluru',\n",
       "       'Bharatpur', 'Bhilai', 'Bhilwara', 'Bhopal', 'Bhubaneswar',\n",
       "       'Bijni', 'Bilasipara', 'Bongaigaon', 'Bulandshahr', 'Burdwan',\n",
       "       'Buxar', 'Chakdaha', 'Chandigarh', 'Chennai', 'Chhapra',\n",
       "       'Chikarada', 'Chinchwad', 'Dapoli', 'Darbhanga', 'Dehradun',\n",
       "       'Delhi', 'Dhaka', 'Dhenkanal', 'Dimapur', 'Durg', 'Durgapur',\n",
       "       'Ernakulam', 'Erode', 'Faridabad', 'Gadarpur', 'Gandhidham',\n",
       "       'Gangapur City', 'Gaya', 'Ghaziabad', 'Goa', 'Gohpur', 'Golaghat',\n",
       "       'Gonda', 'Gopalganj', 'Gurugram', 'Guwahati', 'Haflong', 'Hajipur',\n",
       "       'Hardoi', 'Hooghly', 'Hoshangabad', 'Hyderabad', 'Imphal',\n",
       "       'Indore', 'Jabalpur', 'Jagdalpur', 'Jaipur', 'Jalgaon',\n",
       "       'Jalgaon Jamod', 'Jalna', 'Jamnagar', 'Janjgir', 'Jeypore',\n",
       "       'Jhansi', 'Jodhpur', 'Jorhat', 'Kanchipuram', 'Kannur', 'Karad',\n",
       "       'Karbi Anglong', 'Karkala', 'Kasaragod', 'Katihar', 'Kekri',\n",
       "       'Kerala', 'Khariar', 'Kochi', 'Kolar', 'Kolhapur', 'Kolkata',\n",
       "       'Kondapalli', 'Kopargaon', 'Koraput', 'Kota', 'Kuchaman City',\n",
       "       'Ladakh', 'Lucknow', 'Madhuban', 'Madhubani', 'Madurai',\n",
       "       'Malkapur', 'Mangalore', 'Meerut', 'Mohali', 'Morgaon', 'Morigaon',\n",
       "       'Mudbidri', 'Mujaffarpur', 'Mumbai', 'Munger', 'Muscat',\n",
       "       'Muzaffarpur', 'Muzzafurpur', 'Mysuru', 'Nagaon', 'Nagercoil',\n",
       "       'Nagpur', 'Nainital', 'Nalbari', 'Nanded', 'Nashik', 'Nasriganj',\n",
       "       'Nellore', 'Noida', 'Odisha', 'Pachora', 'Parbhani', 'Patna',\n",
       "       'Pilani', 'Pune', 'Raipur', 'Rajasthan', 'Rajnandgaon', 'Ranchi',\n",
       "       'Rasra', 'Ratlam', 'Ratnagiri', 'Rayagada', 'Roorkee',\n",
       "       'Saharanpur', 'Sahibganj', 'Samastipur', 'Santrampur', 'Shahada',\n",
       "       'Sheoganj', 'Shimla', 'Shirdi', 'Sibsagar', 'Silchar', 'Sitamarhi',\n",
       "       'Solapur', 'Surat', 'Tezpur', 'Thane', 'Thiruvananthapuram',\n",
       "       'Thrissur', 'Tinsukia', 'Tirupati', 'Tiruvalla', 'Udaipur',\n",
       "       'Udaipur, Tripura', 'Udupi', 'Vadodara', 'Varanasi', 'Vellore',\n",
       "       'Visakhapatnam', 'Wani', 'Wanwarla, Pusad', 'Wardha', 'Yavatmal'],\n",
       "      dtype=object)"
      ]
     },
     "execution_count": 19,
     "metadata": {},
     "output_type": "execute_result"
    }
   ],
   "source": [
    "df_video_editing['City'].sort_values().unique()"
   ]
  },
  {
   "cell_type": "markdown",
   "metadata": {},
   "source": [
    "## 📌 Data Preprocessing On City Column Of 'The Basics Of Digital Marketing' Masterclass Dataset"
   ]
  },
  {
   "cell_type": "code",
   "execution_count": 20,
   "metadata": {},
   "outputs": [],
   "source": [
    "#to convert the city names to lowercase with first letter capital\n",
    "df_digital_marketing['City'] = df_digital_marketing['City'].str.title()"
   ]
  },
  {
   "cell_type": "code",
   "execution_count": 21,
   "metadata": {},
   "outputs": [],
   "source": [
    "#to remove the extra space from left and right of city names\n",
    "df_digital_marketing['City'] = df_digital_marketing['City'].str.strip()"
   ]
  },
  {
   "cell_type": "code",
   "execution_count": 22,
   "metadata": {},
   "outputs": [
    {
     "data": {
      "text/plain": [
       "array(['Ahmedabad', 'Ahmednagar', 'Ajmer', 'Amravati', 'Ayodhya',\n",
       "       'Bangalore', 'Banglore', 'Bengaluru', 'Bhagalpur', 'Bhilai',\n",
       "       'Bhilwara', 'Bhopal', 'Bidar', 'Bongaigaon', 'Burhanpur',\n",
       "       'Chattogram, Bangladesh', 'Chennai', 'Chittagong', 'Chittorgarh',\n",
       "       'Dehradun', 'Delhi', 'Delhi Ncr', 'Delhi.', 'Dewas', 'Dhaka',\n",
       "       'Doha', 'Durg', 'Estero', 'Faridabad', 'Gandhinagar', 'Gangtok',\n",
       "       'Gaya', 'Gaya, Bihar', 'Ghaziabad', 'Goa.', 'Gumla', 'Gurgaon',\n",
       "       'Guwahati', 'Haldwani', 'Haridwar', 'Hyderabad', 'Indore',\n",
       "       'Jaipur', 'Jammu And Kashmir', 'Jaunpur', 'Jharakhand', 'Kalyani',\n",
       "       'Kanpur', 'Karimnagar', 'Karnal, Haryana', 'Kochi', 'Kohima',\n",
       "       'Kolkata', 'Kuppam', 'Kurukshetra', 'Latur', 'Leh', 'Lucknow',\n",
       "       'Ludhiana', 'Maihar', 'Malegaon', 'Mangaldai', 'Manipal', 'Mansa',\n",
       "       'Margao-Goa', 'Moradabad', 'Motihari', 'Mp', 'Mumbai',\n",
       "       'Muradnagar', 'Mysore', 'Nagpur', 'Nainital', 'Nashik',\n",
       "       'Navi Mumbai', 'Navi Mumbai-410210', 'New Delhi', 'Nizamabad',\n",
       "       'Noida', 'Nottingham Uk', 'Oragitok Romba Ading', 'Patiala',\n",
       "       'Patna', 'Patna, Bihar', 'Pune', 'Rajabala', 'Rajkot',\n",
       "       'Rajnandgaon', 'Ranchi', 'Roorkee', 'Sagar', 'Saharanpur',\n",
       "       'Secuderabad', 'Secunderabad', 'Shahada', 'Shillong', 'Silchar',\n",
       "       'Siliguri', 'Singapore', 'South West Delhi', 'Sullurpeta',\n",
       "       'Tezpur', 'Thrissur, Kerala', 'Thummalagunta Tirupati', 'Tumkur',\n",
       "       'Tura', 'Uae (Outside India)', 'Udaipur', 'Ujjain', 'Umsawnongbri',\n",
       "       'Vadodara', 'Varanasi', 'Visakhapatnam', 'West Delhi', 'Yavatmal',\n",
       "       'ᴀɢʀᴀ'], dtype=object)"
      ]
     },
     "execution_count": 22,
     "metadata": {},
     "output_type": "execute_result"
    }
   ],
   "source": [
    "df_digital_marketing['City'].sort_values().unique()"
   ]
  },
  {
   "cell_type": "markdown",
   "metadata": {},
   "source": [
    "### Cleaning and Replacing The Wrong City Names To Correct Names"
   ]
  },
  {
   "cell_type": "code",
   "execution_count": 23,
   "metadata": {},
   "outputs": [],
   "source": [
    "df_digital_marketing = df_digital_marketing.replace('Bangalore','Bengaluru').replace('Patna, Bihar','Patna')\\\n",
    ".replace('New Delhi','Delhi').replace('Karnal, Haryana','Karnal').replace('Delhi.','Delhi')\\\n",
    ".replace('Navi Mumbai-410210','Navi Mumbai').replace('South West Delhi','Delhi').replace('Mp','Madhya Pradesh')\\\n",
    ".replace('Gurgaon','Gurugram').replace('Banglore','Bengaluru').replace('Secuderabad','Secunderabad')\\\n",
    ".replace('West Delhi','Delhi').replace('Mysore','Mysuru').replace('Delhi Ncr','Delhi')\\\n",
    ".replace('Goa.','Goa').replace('Gaya, Bihar','Gaya').replace('Umsawnongbri','Meghalaya')\\\n",
    ".replace('Thummalagunta Tirupati','Tummalagunta').replace('ᴀɢʀᴀ','Agra').replace('Thrissur, Kerala','Thrissur')\\\n",
    ".replace('Uae (Outside India)','UAE').replace('Margao-Goa','Margao').replace('Oragitok Romba Ading','Oragitok')\\\n",
    ".replace('Nottingham Uk','Nottingham').replace('Chattogram, Bangladesh','Chattogram')"
   ]
  },
  {
   "cell_type": "markdown",
   "metadata": {},
   "source": [
    "## 📌 Data Preprocessing On City Column Of 'The Basics Of Excel' Masterclass Dataset"
   ]
  },
  {
   "cell_type": "code",
   "execution_count": 24,
   "metadata": {},
   "outputs": [],
   "source": [
    "#to convert the city names to lowercase with first letter capital\n",
    "df_excel['City'] = df_excel['City'].str.title()"
   ]
  },
  {
   "cell_type": "code",
   "execution_count": 25,
   "metadata": {},
   "outputs": [],
   "source": [
    "#to remove the extra space from left and right of city names\n",
    "df_excel['City'] = df_excel['City'].str.strip()"
   ]
  },
  {
   "cell_type": "code",
   "execution_count": 26,
   "metadata": {},
   "outputs": [
    {
     "data": {
      "text/plain": [
       "array(['Accra', 'Accra, Ghana', 'Ahmedabad', 'Ajmer', 'Alappey',\n",
       "       'Aligarh', 'Aligarh, U.P.', 'Amritsar', 'Anand', 'Ankleshwar',\n",
       "       'Ankola', 'Ansan', 'Ara', 'Assam', 'Athens',\n",
       "       'Auraiya Uttar Pradesh', 'Aurangabad', 'Bacolod City', 'Bacoor',\n",
       "       'Bacoor City,Philippines', 'Ballia', 'Bandung', 'Bangalore',\n",
       "       'Bangalore South', 'Banglore', 'Bary', 'Beed', 'Bekasi, Indonesia',\n",
       "       'Bengaluru', 'Bhilai', 'Bhiwandi', 'Bhopal', 'Bhubaneswar',\n",
       "       'Bhusawal', 'Bidar', 'Bilaspur', 'Bingabon', 'Bodhan',\n",
       "       'Bokaro Steel City', 'Burhanpur', 'Bustos Bulacan', 'Buxar',\n",
       "       'Cagayan De Oro City', 'Cainta Rizal', 'Calabar', 'Caloocan City',\n",
       "       'Casablanca', 'Cavite', 'Cavite, Philippines', 'Chabua, Dibrugarh',\n",
       "       'Chandigarh', 'Chengannur', 'Chennai', 'Cluj-Napoca', 'Cochin',\n",
       "       'Coimbatore', 'Coochbihar', 'Dasmariñas City', 'Dehradun', 'Delhi',\n",
       "       'Dewas', 'Dewas, Mp', 'Dhaka', 'Dharamshala, Himachal Pradesh.',\n",
       "       'Dublin', 'Dumka', 'Durg', 'Edmonton', 'Eluru', 'Ernakulam',\n",
       "       'Erode, Tamilnadu', 'Faridabad', 'Farrukhabad Up', 'Frederick',\n",
       "       'Gadarpur', 'Gangtok', 'Gaya', 'General Trias City', 'Ghaziabad',\n",
       "       'Goa', 'Goalpara', 'Gokul Vihar Moradabad', 'Gombe, Nigeria',\n",
       "       'Gonda', 'Goregaon W, Mumbai', 'Greater Noida',\n",
       "       'Greater Noida (West)', 'Greater Noida West', 'Gresik', 'Gujarat',\n",
       "       'Guntur', 'Gurgaon', 'Gurugram', 'Guwahati', 'Gwalior', 'Harare',\n",
       "       'Harda', 'Haridwar', 'Hisar', 'Hisar, Haryana', 'Houston',\n",
       "       'Hyderaba', 'Hyderabad', 'Ibadan', 'Iloilo', 'Imus City',\n",
       "       'Imus City Cavite, Philippines', 'Imus City, Cavite, Philippines',\n",
       "       'Indore', 'Istanbul, Turkey', 'Jaipur', 'Jaitu', 'Jakarta',\n",
       "       'Jalandhar', 'Jalgaon', 'Jalore', 'Jammu', 'Jamshedpur', 'Jaunpur',\n",
       "       'Jhajjar', 'Jodhpur', 'Johannesburg', 'Jorhat, Assam', 'Kakinada',\n",
       "       'Kalaburagi', 'Kannur', 'Kanpur', 'Karachi', 'Karachi,Pakistan',\n",
       "       'Karimnagar', 'Karnal', 'Karnal, Haryana', 'Kasaragod', 'Kathua',\n",
       "       'Khandwa, Mp', 'Khatima', 'Kohima', 'Kolhapur', 'Kolkata',\n",
       "       'Kollam', 'Kota Bandung', 'Kottayam', 'Kozhikode', 'Kuala Lumpur',\n",
       "       'Kuruksethra', 'Kurukshetra', 'Lagos',\n",
       "       'Las Piñas City, Metro Manila', 'Latur', 'Lebanon-Saida',\n",
       "       'Lohardaga', 'London On', 'Loni 413736', 'Lucknow', 'Ludhiana',\n",
       "       'Madina', 'Madurai, Tamil Nadu, India', 'Malappuram', 'Malaysia',\n",
       "       'Malegaon', 'Malout,Punjab', 'Malé,', 'Malé, Maldives',\n",
       "       'Mancher ,Pune', 'Mandaluyong', 'Mandsaur', 'Manila Philippines',\n",
       "       'Manjeri', 'Mapusa', 'Maramag', 'Marrakech', 'Meerut', 'Melbourne',\n",
       "       'Miri', 'Mohali', 'Moradabad', 'Moradabad, Uttar Pradesh',\n",
       "       'Mudipu', 'Mukteshwar', 'Mumbai', 'Mumbai Suburban', 'Muntinlupa',\n",
       "       'Mysore', 'Nadiad', 'Nagda', 'Nagpur', 'Nallasopara', 'Nashik',\n",
       "       'Navi Mumbai', 'Navi Mumbai - 410210', 'Navi Mumbai, New Panvel',\n",
       "       'Near Dikshant International School', 'New Delhi',\n",
       "       'New Delhi, India', 'Nigeria, Katsina', 'Nizamabad', 'Noida',\n",
       "       'North West Delhi', 'Nuh', 'Oton Iloilo', 'Palampur', 'Panchkula',\n",
       "       'Panipat', 'Pasay City', 'Patna', 'Patna , Bihar', 'Philippines',\n",
       "       'Pretoria', 'Pune', 'Puri', 'Puttur', 'Quezon City', 'Raipur',\n",
       "       'Ranchi', 'Ratlam', 'Ratnagiri', 'Riyadh', 'Robertsganj', 'Rohtak',\n",
       "       'Roorkee', 'Saharanpur', 'Samarinda', 'San Jose Del Monte',\n",
       "       'Sangareddy', 'Selangor', 'Shahada', 'Silang', 'Silchar',\n",
       "       'Siliguri', 'Siwan', 'Sonebhadra', 'Srinagar', 'Suchitra',\n",
       "       'Sunset Ave, Windsor', 'Surabaya, Indonesia', 'Surat', 'Surigao',\n",
       "       'Surigao City, Philippines', 'Taguig', 'Tarlac City', 'Tema',\n",
       "       'Thane', 'Thiruvalla', 'Thrissur', 'Tinsukia', 'Trivandrum',\n",
       "       'Tumkur', 'Uae', 'Udaipur', 'Uttarakhand', 'Vadodara', 'Valsad',\n",
       "       'Varanasi', 'Vijayapur', 'Visakhapatnam',\n",
       "       'Visakhapatnam, Andhra Pradesh, India', 'Vishakhapattanam',\n",
       "       'Vizianagaram', 'Vrindavan', 'Wai', 'Wardha', 'West Godavari',\n",
       "       'Yobe', 'Zaria'], dtype=object)"
      ]
     },
     "execution_count": 26,
     "metadata": {},
     "output_type": "execute_result"
    }
   ],
   "source": [
    "df_excel['City'].sort_values().unique()"
   ]
  },
  {
   "cell_type": "markdown",
   "metadata": {},
   "source": [
    "### Cleaning and Replacing The Wrong City Names To Correct Names"
   ]
  },
  {
   "cell_type": "code",
   "execution_count": 27,
   "metadata": {},
   "outputs": [],
   "source": [
    "df_excel['City'] = df_excel['City'].replace('Bangalore','Bengaluru').replace('Sonebhadra','Sonbhadra')\\\n",
    ".replace('New Delhi','Delhi').replace('Bangalore South','Bengaluru').replace('Goregaon W, Mumbai','Goregaon')\\\n",
    ".replace('Near Dikshant International School','Zirakpur').replace('Tumkur','Tumakuru').replace('')\\\n",
    ".replace('Hisar, Haryana','Hisar').replace('Coochbihar','Cooch Behar').replace('Malout,Punjab','Malout')\\\n",
    ".replace('Greater Noida (West)','Greater Noida').replace('Dharamshala, Himachal Pradesh.','Dharamshala')\\\n",
    ".replace('Trivandrum','Thiruvananthapuram').replace('Navi Mumbai - 410210','Navi Mumbai').replace('Mysore','Mysuru')\\\n",
    ".replace('Greater Noida West','Greater Noida').replace('Dewas, Mp','Dewas').replace('Madurai, Tamil Nadu, India','Madurai')\\\n",
    ".replace('Aligarh, U.P.','Aligarh').replace('North West Delhi','Delhi').replace('Mumbai Suburban','Mumbai')\\\n",
    ".replace('Gurgaon','Gurugram').replace('Bingabon','Vrindavan').replace('Ara','Arrah').replace('Uae','UAE')\\\n",
    ".replace('Auraiya Uttar Pradesh','Auraiya ')\\\n",
    ".replace('Madina','Medina').replace('Navi Mumbai, New Panvel','Navi Mumbai').replace('Malé,','Male')\\\n",
    ".replace('Malé, Maldives','Male')\\\n",
    ".replace('Istanbul, Turkey','Istanbul').replace('Mancher ,Pune','Manchar').replace('Jorhat, Assam','Jorhat')\\\n",
    ".replace('Gokul Vihar Moradabad','Moradabad').replace('London On','London').replace('Gresik','Gresik Regency')\\\n",
    ".replace('New Delhi, India','Delhi').replace('Khandwa, Mp','Khandwa').replace('Cavite, Philippines','Cavite')\\\n",
    ".replace('Bacoor City,Philippines','Bacoor').replace('Imus City Cavite, Philippines','Imus')\\\n",
    ".replace('Imus City, Cavite, Philippines','Imus')\\\n",
    ".replace('Imus City','Imus').replace('Hyderaba','Hyderabad').replace('Oton Iloilo','Oton')\\\n",
    ".replace('Surabaya, Indonesia','Surabaya')\\\n",
    ".replace('Farrukhabad Up','Farrukhabad').replace('Surigao','Surigao City').replace('Surigao City, Philippines','Surigao City')\\\n",
    ".replace('Moradabad, Uttar Pradesh','Moradabad').replace('Nallasopara','Nala Sopara').replace('Kota Bandung','Bandung')\\\n",
    ".replace('Erode, Tamilnadu','Erode').replace('Ballia','Balliya').replace('Patna , Bihar','Patna').replace('Bary','Bari')\\\n",
    ".replace('Banglore','Bengaluru').replace('Alappey','Alappuzha').replace('Bekasi, Indonesia','Bekasi')\\\n",
    ".replace('Chabua, Dibrugarh','Chabua')\\\n",
    ".replace('Nigeria, Katsina','Katsina').replace('Visakhapatnam, Andhra Pradesh, India','Visakhapatnam')\\\n",
    ".replace('Loni 413736','Loni').replace('Karnal, Haryana','Karnal').replace('Gombe, Nigeria','Gombe')\\\n",
    ".replace('dhaka','Dhaka').replace('Accra, Ghana','Accra').replace('Karachi,Pakistan','Karachi')\\\n",
    ".replace('Sunset Ave, Windsor','Sunset Avenue')"
   ]
  },
  {
   "cell_type": "markdown",
   "metadata": {},
   "source": [
    "## 📌 Data Preprocessing On City Column Of 'Basics of Canva - A Graphic Design Platform' Masterclass Dataset"
   ]
  },
  {
   "cell_type": "code",
   "execution_count": 28,
   "metadata": {},
   "outputs": [],
   "source": [
    "#to convert the city names to lowercase with first letter capital\n",
    "df_canva_design['City'] = df_canva_design['City'].str.title()"
   ]
  },
  {
   "cell_type": "code",
   "execution_count": 29,
   "metadata": {},
   "outputs": [],
   "source": [
    "#to remove the extra space from left and right of city names\n",
    "df_canva_design['City'] = df_canva_design['City'].str.strip()"
   ]
  },
  {
   "cell_type": "code",
   "execution_count": 30,
   "metadata": {},
   "outputs": [
    {
     "data": {
      "text/plain": [
       "array(['Agra', 'Agra, Uttar Pradesh', 'Ahmedabad', 'Aizawl', 'Ajmer',\n",
       "       'Akola,(Maharashtra)', 'Algiers', 'Allahabad', 'Ambajogai',\n",
       "       'Ambikapur', 'Amravati', 'Amritsar', 'Ananthapur', 'Ankola',\n",
       "       'Ariyalur', 'Arwal', 'Asansol', 'Assam', 'Aurangabad',\n",
       "       'Azamgarh U.P', 'Baguio City', 'Balangir, Odisha', 'Bangalore',\n",
       "       'Banglore', 'Bargarh', 'Baripada, Mayurbhanj',\n",
       "       'Bastar Chhattisgarh', 'Bathinda', 'Beltola, Guwahati',\n",
       "       'Bengaluru', 'Bhilai', 'Bhilwara', 'Bhiwadi', 'Bhopal',\n",
       "       'Bhubaneshwar', 'Bhubaneswar', 'Bhubaneswar,Odisha', 'Bikramganj',\n",
       "       'Bilaspur', 'Caloocan', 'Caloocan City', 'Chamarajnagar',\n",
       "       'Chandigarh', 'Chennai', 'Chhatarpur', 'Chinchwad',\n",
       "       'Chittaranjan West Bengal', 'Coimbatore', 'Darbhanga',\n",
       "       'Davao City', 'Dehradun', 'Delhi', 'Delhi Ncr', 'Delhi-Ncr',\n",
       "       'Delhi/Lucknow', 'Dewas', 'Dhanbad', 'Dharamshala', 'Dharmapuri',\n",
       "       'Dhule', 'Dibrugarh', 'Digboi', 'Dimapur', 'Durg', 'Eluru',\n",
       "       'Ernakulam', 'Gadag', 'Gandevi', 'Gandhidham', 'Gaya', 'Ghaziabad',\n",
       "       'Goalpara', 'Guagua', 'Gujarat', 'Gurgaon', 'Gurugram', 'Guwahati',\n",
       "       'Gwalior', 'Haryana ,Delhi', 'Hooghly', 'Hoshangabad', 'Hyderabad',\n",
       "       'Imphal', 'Indore', 'Jabalpur', 'Jaipur', 'Jalandhar', 'Jamnagar',\n",
       "       'Jamnagar, Gujarat', 'Jamshedpur', 'Jehanabad', 'Jhunjhunu',\n",
       "       'Jind', 'Johannesburg', 'Jorhat', 'Kadapa', 'Kalyan',\n",
       "       'Kampala, Uganda', 'Kamrup Metro', 'Kangra', 'Kanpur',\n",
       "       'Karachi, Pakistan', 'Karbi Anglong', 'Karnal', 'Kesinga',\n",
       "       'Kharghar', 'Khordha', 'Kochi', 'Kohima', 'Kolhapur', 'Kolkata',\n",
       "       'Kollata', 'Korba', 'Kottayam, Kerala', 'Kuppam', 'Kurukshetra',\n",
       "       'Lahore', 'Lakhimpur Kheri', 'Lonavala', 'Lucknow', 'Madhubani',\n",
       "       'Madhya Pradesh', 'Madurai', 'Manapparai', 'Mancherial',\n",
       "       'Mangalore', 'Manila', 'Manila, Philippines', 'Mathura', 'Meerut',\n",
       "       'Mumbai', 'Mumbai City', 'Mumbai/Lucknow', 'Munger', 'Mysore',\n",
       "       'Mysuru', 'Nagothane', 'Nagpur', 'Nainital', 'Nairobi',\n",
       "       'Navi Mumbai', 'Navi Mumbai-410210', 'Nellore', 'New Delhi',\n",
       "       'Newcastle', 'Newdelhi', 'Noida', 'North West Delhi', 'Osmanabad',\n",
       "       'Palakkad', 'Panaji', 'Panipat', 'Pasig', 'Pathanamthitta',\n",
       "       'Patna', 'Patna (Bihar)', 'Pimpri Chinchwad', 'Pune',\n",
       "       'Quezon City Philippines', 'Raichur', 'Raipur', 'Rajam',\n",
       "       'Rajasthan', 'Ranchi', 'Ruchitamagr412@Gmail.Com', 'Saharanpur',\n",
       "       'Saharanpur, Up', 'Salem', 'Samastipur', 'Sangli',\n",
       "       'Saran( Chapra )', 'Sasasaram', 'Satara', 'Satna',\n",
       "       'Shahdara, North East Delhi', 'Shahjahanpur Up', 'Shamli U.P.',\n",
       "       'Silchar', 'Siliguri', 'Sivasagar', 'Siwan', 'Sofades',\n",
       "       'Sonbhadra', 'Sultanpur', 'Surat', 'Surigao City', 'Talasari',\n",
       "       'Tamilnadu', 'Tezpur', 'Thalassery', 'Thane', 'Thane West',\n",
       "       'Thane West Mumbai', 'Theni', 'Tiruchirappalli', 'Tirupathi',\n",
       "       'Trivandrum', 'Vadodara', 'Valencia City, Bukidnon', 'Varanasi',\n",
       "       'Vasco', 'Velachery, Chennai', 'Vellorr Tamilnadu', 'Vijayawada',\n",
       "       'Visakhapatnam', 'Vizag', 'Washim', 'West Bengal', 'Windhoek',\n",
       "       'Yavatmal', 'ᴀɢʀᴀ'], dtype=object)"
      ]
     },
     "execution_count": 30,
     "metadata": {},
     "output_type": "execute_result"
    }
   ],
   "source": [
    "df_canva_design['City'].sort_values().unique()"
   ]
  },
  {
   "cell_type": "markdown",
   "metadata": {},
   "source": [
    "### Cleaning and Replacing The Wrong City Names To Correct Names"
   ]
  },
  {
   "cell_type": "code",
   "execution_count": 31,
   "metadata": {},
   "outputs": [],
   "source": [
    "df_canva_design['City'] = df_canva_design['City'].replace('New Delhi','Delhi').replace('Saran( Chapra )','Chapra')\\\n",
    ".replace('Bangalore','Bengaluru').replace('Saharanpur, Up','Saharanpur').replace('Gurgaon','Gurugram')\\\n",
    ".replace('Thane West Mumbai','Thane').replace('Newdelhi','Delhi').replace('Delhi-Ncr','Delhi')\\\n",
    ".replace('Bastar Chhattisgarh','Bastar').replace('Vasco','Vasco da Gama').replace('Beltola, Guwahati','Beltola Tiniali')\\\n",
    ".replace('Baripada, Mayurbhanj','Baripada').replace('Thane West','Thane').replace('Trivandrum','Trivandrum')\\\n",
    ".replace('Agra, Uttar Pradesh','Agra').replace('Vizag','Visakhapatnam').replace('Kollata','Kolkata')\\\n",
    ".replace('Shahdara, North East Delhi','Delhi')\\\n",
    ".replace('Mumbai City','Mumbai').replace('Delhi/Lucknow','Delhi').replace('Kottayam, Kerala','Kottayam')\\\n",
    ".replace('Kampala, Uganda','Kampala').replace('Haryana ,Delhi','Haryana').replace('Banglore','Bengaluru')\\\n",
    ".replace('Azamgarh U.P','Azamgarh').replace('Patna (Bihar)','Patna').replace('Chittaranjan West Bengal','Chittaranjan')\\\n",
    ".replace('Sasasaram','Sasaram').replace('Navi Mumbai-410210','Navi Mumbai').replace('Velachery, Chennai','Velachery')\\\n",
    ".replace('Caloocan City','Caloocan').replace('Bhubaneswar,Odisha','Bhubaneswar').replace('Shamli U.P.','Shamli')\\\n",
    ".replace('Kamrup Metro','Kamrup Metropolitan').replace('Ananthapur','Anantapur').replace('Theni','Theni Allinagaram')\\\n",
    ".replace('Jamnagar, Gujarat','Jamnagar').replace('Karachi, Pakistan','Karachi').replace('Manila, Philippines','Manila')\\\n",
    ".replace('North West Delhi','Delhi').replace('Mumbai/Lucknow','Mumbai').replace('Balangir, Odisha','Balangir')\\\n",
    ".replace('Lakhimpur Kheri','Lakhimpur').replace('ᴀɢʀᴀ','Agra').replace('Shahjahanpur Up','Shahjahanpur')\\\n",
    ".replace('Akola,(Maharashtra)','Akola').replace('Delhi Ncr','Delhi').replace('Valencia City, Bukidnon','Valencia City')\\\n",
    ".replace('Vellorr Tamilnadu','Vellore').replace('Mysore','Mysuru').replace('Quezon City Philippines','Quezon City')"
   ]
  },
  {
   "cell_type": "code",
   "execution_count": 32,
   "metadata": {},
   "outputs": [],
   "source": [
    "df_canva_design.drop(df_canva_design.index[df_canva_design['City'] == 'Ruchitamagr412@Gmail.Com'], inplace = True)"
   ]
  },
  {
   "cell_type": "markdown",
   "metadata": {},
   "source": [
    "## 📌 Data Preprocessing On City Column Of 'Public Speaking' Masterclass Dataset"
   ]
  },
  {
   "cell_type": "code",
   "execution_count": 33,
   "metadata": {},
   "outputs": [],
   "source": [
    "#to convert the city names to lowercase with first letter capital\n",
    "df_public_speaking['City'] = df_public_speaking['City'].str.title()"
   ]
  },
  {
   "cell_type": "code",
   "execution_count": 34,
   "metadata": {},
   "outputs": [],
   "source": [
    "#to remove the extra space from left and right of city names\n",
    "df_public_speaking['City'] = df_public_speaking['City'].str.strip()"
   ]
  },
  {
   "cell_type": "code",
   "execution_count": 35,
   "metadata": {},
   "outputs": [
    {
     "data": {
      "text/plain": [
       "array(['Ahmednagar', 'Airoli', 'Ajmer', 'Alibag', 'Ambejogai', 'Ariyalur',\n",
       "       'Asansol', 'Baler Aurora Philippines', 'Bangalore', 'Bareilly',\n",
       "       'Belagavi', 'Bengaluru', 'Bhagalpur', 'Bhusawal', 'Bihar',\n",
       "       'Chandigarh', 'Chapra', 'Chennai', 'Coimbatore', 'Dehradun',\n",
       "       'Delhi', 'Delhi Ncr', 'Dhaka', 'Dibrugarh', 'Egypt - Damietta',\n",
       "       'Ernakulam', 'Faridabad', 'Gaya', 'Goa', 'Gonda', 'Gorakhpur',\n",
       "       'Gurgaon', 'Guwahati', 'Gwalior', 'Haldwani', 'Hapur',\n",
       "       'Hoshangabad M.P.', 'Hosur', 'Hyderabad', 'Imphal', 'Indore',\n",
       "       'Inkollu', 'Islampur', 'Itanagar', 'Jaipur', 'Jajpur', 'Jalgaon',\n",
       "       'Jamnagar', 'Jamshedpur', 'Kalady', 'Kanpur', 'Kochi', 'Kolkata',\n",
       "       'Kollam', 'Kozhikkode', 'Los Baños, Philippines', 'Lucknow',\n",
       "       'Manglore', 'Manipal', 'Morigaon', 'Mumbai', 'Nanded',\n",
       "       'Nangaliya Gujarwas', 'Nashik', 'Navi Mumbai',\n",
       "       'Navi Mumbai-410210', 'Nellore', 'New Delhi', 'Palakkad',\n",
       "       'Panipat', 'Parasi', 'Parbhani', 'Pasighat', 'Patna', 'Phaltan',\n",
       "       'Pilani', 'Prayagraj', 'Pune', 'Pusad', 'Raebareli', 'Ranchi',\n",
       "       'Rayagada, Odisha.', 'Roorkee', 'Rourkela', 'Saharanpur',\n",
       "       'Samastipur', 'Sanchi', 'Shadnagar', 'Silchar', 'Silchar, Assam',\n",
       "       'Solapur', 'Surjapur', 'Thane', 'Thane Maharashtra', 'Thrissur',\n",
       "       'Tripunithura, Ernakulam', 'Trivandrum', 'Trivandrum, Kerala',\n",
       "       'Varanasi', 'Vijayawada', 'Vijaypur', 'Vishakhapatnam', 'Warangal',\n",
       "       'Yamunanagar'], dtype=object)"
      ]
     },
     "execution_count": 35,
     "metadata": {},
     "output_type": "execute_result"
    }
   ],
   "source": [
    "df_public_speaking['City'].sort_values().unique()"
   ]
  },
  {
   "cell_type": "markdown",
   "metadata": {},
   "source": [
    "### Cleaning and Replacing The Wrong City Names To Correct Names"
   ]
  },
  {
   "cell_type": "code",
   "execution_count": 36,
   "metadata": {},
   "outputs": [],
   "source": [
    "df_public_speaking['City'] = df_public_speaking['City'].replace('Gurgaon','Gurugram').replace('Silchar, Assam','Silchar')\\\n",
    ".replace('New Delhi','Delhi').replace('Tripunithura, Ernakulam','Thrippunithura').replace('Kozhikkode','Kozhikode')\\\n",
    ".replace('Trivandrum, Kerala','Thiruvananthapuram').replace('Trivandrum','Thiruvananthapuram').replace('Belagavi','Belgaum')\\\n",
    ".replace('Nangaliya Gujarwas','Jhunjhunun').replace('Navi Mumbai-410210','Navi Mumbai').replace('Rayagada, Odisha.','Rayagada')\\\n",
    ".replace('Bangalore','Bengaluru').replace('Thane Maharashtra','Thane').replace('Egypt - Damietta','Damietta')\\\n",
    ".replace('Baler Aurora Philippines','Baler').replace('Manglore','Mangalore').replace('Ambejogai','Ambajogai')\\\n",
    ".replace('Hoshangabad M.P.','Hoshangabad').replace('Los Baños, Philippines','Los Banos').replace('Delhi Ncr','Delhi')"
   ]
  },
  {
   "cell_type": "markdown",
   "metadata": {},
   "source": [
    "## 📌 Data Preprocessing On City Column Of 'The Podcast' Masterclass Dataset"
   ]
  },
  {
   "cell_type": "code",
   "execution_count": 37,
   "metadata": {},
   "outputs": [],
   "source": [
    "#to convert the city names to lowercase with first letter capital\n",
    "df_podcast['City'] = df_podcast['City'].str.title()"
   ]
  },
  {
   "cell_type": "code",
   "execution_count": 38,
   "metadata": {},
   "outputs": [],
   "source": [
    "#to remove the extra space from left and right of city names\n",
    "df_podcast['City'] = df_podcast['City'].str.strip()"
   ]
  },
  {
   "cell_type": "code",
   "execution_count": 39,
   "metadata": {},
   "outputs": [
    {
     "data": {
      "text/plain": [
       "array(['Agra', 'Ahmedabad', 'Akola', 'Amritsar', 'Ananthapur', 'Ariyalur',\n",
       "       'Arwal', 'Assam', 'Bangalore', 'Banglore', 'Baramati', 'Begusarai',\n",
       "       'Bengaluru', 'Bhagalpur', 'Bhilwara', 'Bhopal', 'Bhubaneswar',\n",
       "       'Bhubaneswar,Patna', 'Bikramganj', 'Brussels', 'Caloocan',\n",
       "       'Chamarajnagar', 'Chandigarh', 'Chennai', 'Coimbatore',\n",
       "       'Darbhanga', 'Dehradun', 'Delhi', 'Delhi Ncr', 'Delhi/Ncr',\n",
       "       'Dewas', 'Dhanbad', 'Dubai', 'Faridabad', 'Faridabad, Haryana',\n",
       "       'Ghaziyabad Q', 'Goalpara', 'Gonda', 'Gondia', 'Gurgaon',\n",
       "       'Guwahati', 'Hyderabad', 'I Want To Attend', 'Indore', 'Itanagar',\n",
       "       'Jabalpur', 'Jehanabad', 'Jorhat', 'Kalyan-Dombivali', 'Kangra',\n",
       "       'Khordha', 'Kolhapur', 'Kolkata', 'Kolkata,West Bengal', 'Kota',\n",
       "       'Kuppam', 'Kurukshetra', 'Latur', 'Lucknow', 'Madurai', 'Manila',\n",
       "       'Manila, Philippines', 'Manipal', 'Meerut', 'Moradabad', 'Mumbai',\n",
       "       'Nagpur', 'Nanded', 'Navi Mumbai', 'Nawanshahr', 'Ncr', 'Neemuch',\n",
       "       'New Delhi', 'Palanpur', 'Parbhani', 'Pasig', 'Patna', 'Porbandar',\n",
       "       'Pune', 'Pune, Maharashtra', 'Raebareli', 'Raipur', 'Ranchi',\n",
       "       'Rohtak', 'San Carlos City', 'Sasaram', 'Shamli U.P.', 'Silchar',\n",
       "       'Siliguri', 'Siwan', 'Sri Ganganagar', 'Surigao City',\n",
       "       'Thalassery', 'Thane', 'Tuljapur', 'Vadodara',\n",
       "       'Vashi, Navi Mumbai', 'Vellore', 'Vijayawada', 'West Delhi'],\n",
       "      dtype=object)"
      ]
     },
     "execution_count": 39,
     "metadata": {},
     "output_type": "execute_result"
    }
   ],
   "source": [
    "df_podcast['City'].sort_values().unique()"
   ]
  },
  {
   "cell_type": "markdown",
   "metadata": {},
   "source": [
    "### Cleaning and Replacing The Wrong City Names To Correct Names"
   ]
  },
  {
   "cell_type": "code",
   "execution_count": 40,
   "metadata": {},
   "outputs": [],
   "source": [
    "df_podcast['City'] = df_podcast['City'].replace('Banglore','Bengaluru').replace('Jehanabad','Jahanabad')\\\n",
    ".replace('Shamli U.P.','Shamli').replace('Ananthapur','Anantapur').replace('Bangalore','Bengaluru')\\\n",
    ".replace('Kalyan-Dombivali','Kalyan').replace('Manila, Philippines','Manila').replace('Delhi Ncr','Delhi')\\\n",
    ".replace('New Delhi','Delhi').replace('Kolkata,West Bengal','Kolkata').replace('Gurgaon','Gurugram')\\\n",
    ".replace('Ghaziyabad Q','Ghaziabad').replace('Pune, Maharashtra','Pune').replace('Faridabad, Haryana','Faridabad')\\\n",
    ".replace('Vashi, Navi Mumbai','Navi Mumbai').replace('Delhi/Ncr','Delhi').replace('West Delhi','Delhi')\\\n",
    ".replace('Ncr','Delhi').replace('Bhubaneswar,Patna','Bhubaneswar')"
   ]
  },
  {
   "cell_type": "code",
   "execution_count": 41,
   "metadata": {},
   "outputs": [],
   "source": [
    "df_podcast.drop(df_podcast.index[df_podcast['City'] == 'I Want To Attend'], inplace = True)"
   ]
  },
  {
   "cell_type": "markdown",
   "metadata": {},
   "source": [
    "## 📌 Concatenating/Merging All the 7 Datasets"
   ]
  },
  {
   "cell_type": "code",
   "execution_count": 42,
   "metadata": {},
   "outputs": [],
   "source": [
    "final = [df_canva_design, df_digital_marketing, df_excel, df_podcast, df_public_speaking, df_video_editing,\n",
    "          df_whatsapp_marketing]"
   ]
  },
  {
   "cell_type": "code",
   "execution_count": 43,
   "metadata": {},
   "outputs": [],
   "source": [
    "df_final = pd.concat(final)"
   ]
  },
  {
   "cell_type": "code",
   "execution_count": 44,
   "metadata": {
    "scrolled": true
   },
   "outputs": [
    {
     "data": {
      "text/plain": [
       "(2956, 4)"
      ]
     },
     "execution_count": 44,
     "metadata": {},
     "output_type": "execute_result"
    }
   ],
   "source": [
    "df_final.shape"
   ]
  },
  {
   "cell_type": "code",
   "execution_count": 45,
   "metadata": {},
   "outputs": [
    {
     "data": {
      "text/plain": [
       "City           0\n",
       "Masterclass    0\n",
       "Date           0\n",
       "Time           0\n",
       "dtype: int64"
      ]
     },
     "execution_count": 45,
     "metadata": {},
     "output_type": "execute_result"
    }
   ],
   "source": [
    "df_final.isnull().sum()"
   ]
  },
  {
   "cell_type": "markdown",
   "metadata": {},
   "source": [
    "**Dataset Doesn't Contain Any Null Values**\n",
    "<br>\n",
    "<br>\n",
    "**Let's Check For Duplicate Values:**"
   ]
  },
  {
   "cell_type": "code",
   "execution_count": 46,
   "metadata": {
    "scrolled": false
   },
   "outputs": [
    {
     "data": {
      "text/plain": [
       "23"
      ]
     },
     "execution_count": 46,
     "metadata": {},
     "output_type": "execute_result"
    }
   ],
   "source": [
    "df_final.duplicated().sum()"
   ]
  },
  {
   "cell_type": "markdown",
   "metadata": {},
   "source": [
    "**Dataset Contains 23 Duplicate Rows. So, Before Dropping the Duplicated Rows Let's First See All The Duplicated Rows Values**"
   ]
  },
  {
   "cell_type": "code",
   "execution_count": 47,
   "metadata": {
    "scrolled": false
   },
   "outputs": [
    {
     "data": {
      "text/html": [
       "<div>\n",
       "<style scoped>\n",
       "    .dataframe tbody tr th:only-of-type {\n",
       "        vertical-align: middle;\n",
       "    }\n",
       "\n",
       "    .dataframe tbody tr th {\n",
       "        vertical-align: top;\n",
       "    }\n",
       "\n",
       "    .dataframe thead th {\n",
       "        text-align: right;\n",
       "    }\n",
       "</style>\n",
       "<table border=\"1\" class=\"dataframe\">\n",
       "  <thead>\n",
       "    <tr style=\"text-align: right;\">\n",
       "      <th></th>\n",
       "      <th>City</th>\n",
       "      <th>Masterclass</th>\n",
       "      <th>Date</th>\n",
       "      <th>Time</th>\n",
       "    </tr>\n",
       "  </thead>\n",
       "  <tbody>\n",
       "    <tr>\n",
       "      <th>358</th>\n",
       "      <td>Delhi</td>\n",
       "      <td>Basics of Canva - A Graphic Design Platform</td>\n",
       "      <td>2020-08-14</td>\n",
       "      <td>16:25:00</td>\n",
       "    </tr>\n",
       "    <tr>\n",
       "      <th>359</th>\n",
       "      <td>Delhi</td>\n",
       "      <td>Basics of Canva - A Graphic Design Platform</td>\n",
       "      <td>2020-08-14</td>\n",
       "      <td>16:25:00</td>\n",
       "    </tr>\n",
       "    <tr>\n",
       "      <th>517</th>\n",
       "      <td>Mumbai</td>\n",
       "      <td>Basics of Canva - A Graphic Design Platform</td>\n",
       "      <td>2020-08-17</td>\n",
       "      <td>22:55:00</td>\n",
       "    </tr>\n",
       "    <tr>\n",
       "      <th>519</th>\n",
       "      <td>Mumbai</td>\n",
       "      <td>Basics of Canva - A Graphic Design Platform</td>\n",
       "      <td>2020-08-17</td>\n",
       "      <td>22:55:00</td>\n",
       "    </tr>\n",
       "    <tr>\n",
       "      <th>639</th>\n",
       "      <td>Pune</td>\n",
       "      <td>Basics of Canva - A Graphic Design Platform</td>\n",
       "      <td>2020-08-22</td>\n",
       "      <td>22:08:00</td>\n",
       "    </tr>\n",
       "    <tr>\n",
       "      <th>640</th>\n",
       "      <td>Pune</td>\n",
       "      <td>Basics of Canva - A Graphic Design Platform</td>\n",
       "      <td>2020-08-22</td>\n",
       "      <td>22:08:00</td>\n",
       "    </tr>\n",
       "    <tr>\n",
       "      <th>644</th>\n",
       "      <td>Pune</td>\n",
       "      <td>Basics of Canva - A Graphic Design Platform</td>\n",
       "      <td>2020-08-22</td>\n",
       "      <td>22:19:00</td>\n",
       "    </tr>\n",
       "    <tr>\n",
       "      <th>645</th>\n",
       "      <td>Pune</td>\n",
       "      <td>Basics of Canva - A Graphic Design Platform</td>\n",
       "      <td>2020-08-22</td>\n",
       "      <td>22:19:00</td>\n",
       "    </tr>\n",
       "    <tr>\n",
       "      <th>179</th>\n",
       "      <td>Sagar</td>\n",
       "      <td>The Basics Of Digital Marketing</td>\n",
       "      <td>2020-09-25</td>\n",
       "      <td>11:29:00</td>\n",
       "    </tr>\n",
       "    <tr>\n",
       "      <th>180</th>\n",
       "      <td>Sagar</td>\n",
       "      <td>The Basics Of Digital Marketing</td>\n",
       "      <td>2020-09-25</td>\n",
       "      <td>11:29:00</td>\n",
       "    </tr>\n",
       "    <tr>\n",
       "      <th>54</th>\n",
       "      <td>Delhi</td>\n",
       "      <td>The Basics Of Excel</td>\n",
       "      <td>2020-10-05</td>\n",
       "      <td>00:10:00</td>\n",
       "    </tr>\n",
       "    <tr>\n",
       "      <th>56</th>\n",
       "      <td>Delhi</td>\n",
       "      <td>The Basics Of Excel</td>\n",
       "      <td>2020-10-05</td>\n",
       "      <td>00:10:00</td>\n",
       "    </tr>\n",
       "    <tr>\n",
       "      <th>114</th>\n",
       "      <td>Mumbai</td>\n",
       "      <td>The Basics Of Excel</td>\n",
       "      <td>2020-10-05</td>\n",
       "      <td>10:06:00</td>\n",
       "    </tr>\n",
       "    <tr>\n",
       "      <th>115</th>\n",
       "      <td>Mumbai</td>\n",
       "      <td>The Basics Of Excel</td>\n",
       "      <td>2020-10-05</td>\n",
       "      <td>10:06:00</td>\n",
       "    </tr>\n",
       "    <tr>\n",
       "      <th>141</th>\n",
       "      <td>Delhi</td>\n",
       "      <td>The Basics Of Excel</td>\n",
       "      <td>2020-10-05</td>\n",
       "      <td>12:01:00</td>\n",
       "    </tr>\n",
       "    <tr>\n",
       "      <th>142</th>\n",
       "      <td>Delhi</td>\n",
       "      <td>The Basics Of Excel</td>\n",
       "      <td>2020-10-05</td>\n",
       "      <td>12:01:00</td>\n",
       "    </tr>\n",
       "    <tr>\n",
       "      <th>319</th>\n",
       "      <td>Mumbai</td>\n",
       "      <td>The Basics Of Excel</td>\n",
       "      <td>2020-10-07</td>\n",
       "      <td>14:46:00</td>\n",
       "    </tr>\n",
       "    <tr>\n",
       "      <th>320</th>\n",
       "      <td>Mumbai</td>\n",
       "      <td>The Basics Of Excel</td>\n",
       "      <td>2020-10-07</td>\n",
       "      <td>14:46:00</td>\n",
       "    </tr>\n",
       "    <tr>\n",
       "      <th>389</th>\n",
       "      <td>Imus</td>\n",
       "      <td>The Basics Of Excel</td>\n",
       "      <td>2020-10-09</td>\n",
       "      <td>15:34:00</td>\n",
       "    </tr>\n",
       "    <tr>\n",
       "      <th>390</th>\n",
       "      <td>Imus</td>\n",
       "      <td>The Basics Of Excel</td>\n",
       "      <td>2020-10-09</td>\n",
       "      <td>15:34:00</td>\n",
       "    </tr>\n",
       "    <tr>\n",
       "      <th>505</th>\n",
       "      <td>Bengaluru</td>\n",
       "      <td>The Basics Of Excel</td>\n",
       "      <td>2020-10-15</td>\n",
       "      <td>16:25:00</td>\n",
       "    </tr>\n",
       "    <tr>\n",
       "      <th>506</th>\n",
       "      <td>Bengaluru</td>\n",
       "      <td>The Basics Of Excel</td>\n",
       "      <td>2020-10-15</td>\n",
       "      <td>16:25:00</td>\n",
       "    </tr>\n",
       "    <tr>\n",
       "      <th>6</th>\n",
       "      <td>Pune</td>\n",
       "      <td>Basic Video Editing</td>\n",
       "      <td>2020-07-28</td>\n",
       "      <td>16:52:00</td>\n",
       "    </tr>\n",
       "    <tr>\n",
       "      <th>7</th>\n",
       "      <td>Pune</td>\n",
       "      <td>Basic Video Editing</td>\n",
       "      <td>2020-07-28</td>\n",
       "      <td>16:52:00</td>\n",
       "    </tr>\n",
       "    <tr>\n",
       "      <th>50</th>\n",
       "      <td>Nalbari</td>\n",
       "      <td>Basic Video Editing</td>\n",
       "      <td>2020-07-28</td>\n",
       "      <td>18:12:00</td>\n",
       "    </tr>\n",
       "    <tr>\n",
       "      <th>51</th>\n",
       "      <td>Nalbari</td>\n",
       "      <td>Basic Video Editing</td>\n",
       "      <td>2020-07-28</td>\n",
       "      <td>18:12:00</td>\n",
       "    </tr>\n",
       "    <tr>\n",
       "      <th>52</th>\n",
       "      <td>Nalbari</td>\n",
       "      <td>Basic Video Editing</td>\n",
       "      <td>2020-07-28</td>\n",
       "      <td>18:12:00</td>\n",
       "    </tr>\n",
       "    <tr>\n",
       "      <th>191</th>\n",
       "      <td>Pune</td>\n",
       "      <td>Basic Video Editing</td>\n",
       "      <td>2020-07-29</td>\n",
       "      <td>10:53:00</td>\n",
       "    </tr>\n",
       "    <tr>\n",
       "      <th>192</th>\n",
       "      <td>Pune</td>\n",
       "      <td>Basic Video Editing</td>\n",
       "      <td>2020-07-29</td>\n",
       "      <td>10:53:00</td>\n",
       "    </tr>\n",
       "    <tr>\n",
       "      <th>277</th>\n",
       "      <td>Bengaluru</td>\n",
       "      <td>Basic Video Editing</td>\n",
       "      <td>2020-07-29</td>\n",
       "      <td>21:41:00</td>\n",
       "    </tr>\n",
       "    <tr>\n",
       "      <th>278</th>\n",
       "      <td>Bengaluru</td>\n",
       "      <td>Basic Video Editing</td>\n",
       "      <td>2020-07-29</td>\n",
       "      <td>21:41:00</td>\n",
       "    </tr>\n",
       "    <tr>\n",
       "      <th>288</th>\n",
       "      <td>Kota</td>\n",
       "      <td>Basic Video Editing</td>\n",
       "      <td>2020-07-29</td>\n",
       "      <td>22:38:00</td>\n",
       "    </tr>\n",
       "    <tr>\n",
       "      <th>289</th>\n",
       "      <td>Kota</td>\n",
       "      <td>Basic Video Editing</td>\n",
       "      <td>2020-07-29</td>\n",
       "      <td>22:38:00</td>\n",
       "    </tr>\n",
       "    <tr>\n",
       "      <th>331</th>\n",
       "      <td>Mumbai</td>\n",
       "      <td>Basic Video Editing</td>\n",
       "      <td>2020-07-30</td>\n",
       "      <td>11:07:00</td>\n",
       "    </tr>\n",
       "    <tr>\n",
       "      <th>332</th>\n",
       "      <td>Mumbai</td>\n",
       "      <td>Basic Video Editing</td>\n",
       "      <td>2020-07-30</td>\n",
       "      <td>11:07:00</td>\n",
       "    </tr>\n",
       "    <tr>\n",
       "      <th>358</th>\n",
       "      <td>Udaipur</td>\n",
       "      <td>Basic Video Editing</td>\n",
       "      <td>2020-07-30</td>\n",
       "      <td>15:11:00</td>\n",
       "    </tr>\n",
       "    <tr>\n",
       "      <th>360</th>\n",
       "      <td>Udaipur</td>\n",
       "      <td>Basic Video Editing</td>\n",
       "      <td>2020-07-30</td>\n",
       "      <td>15:11:00</td>\n",
       "    </tr>\n",
       "    <tr>\n",
       "      <th>97</th>\n",
       "      <td>Gurugram</td>\n",
       "      <td>Whatsapp Marketing</td>\n",
       "      <td>2020-09-07</td>\n",
       "      <td>12:12:00</td>\n",
       "    </tr>\n",
       "    <tr>\n",
       "      <th>99</th>\n",
       "      <td>Gurugram</td>\n",
       "      <td>Whatsapp Marketing</td>\n",
       "      <td>2020-09-07</td>\n",
       "      <td>12:12:00</td>\n",
       "    </tr>\n",
       "    <tr>\n",
       "      <th>220</th>\n",
       "      <td>Pune</td>\n",
       "      <td>Whatsapp Marketing</td>\n",
       "      <td>2020-09-08</td>\n",
       "      <td>11:48:00</td>\n",
       "    </tr>\n",
       "    <tr>\n",
       "      <th>221</th>\n",
       "      <td>Pune</td>\n",
       "      <td>Whatsapp Marketing</td>\n",
       "      <td>2020-09-08</td>\n",
       "      <td>11:48:00</td>\n",
       "    </tr>\n",
       "    <tr>\n",
       "      <th>369</th>\n",
       "      <td>Mumbai</td>\n",
       "      <td>Whatsapp Marketing</td>\n",
       "      <td>2020-09-13</td>\n",
       "      <td>11:43:00</td>\n",
       "    </tr>\n",
       "    <tr>\n",
       "      <th>370</th>\n",
       "      <td>Mumbai</td>\n",
       "      <td>Whatsapp Marketing</td>\n",
       "      <td>2020-09-13</td>\n",
       "      <td>11:43:00</td>\n",
       "    </tr>\n",
       "    <tr>\n",
       "      <th>384</th>\n",
       "      <td>Pune</td>\n",
       "      <td>Whatsapp Marketing</td>\n",
       "      <td>2020-09-13</td>\n",
       "      <td>13:58:00</td>\n",
       "    </tr>\n",
       "    <tr>\n",
       "      <th>385</th>\n",
       "      <td>Pune</td>\n",
       "      <td>Whatsapp Marketing</td>\n",
       "      <td>2020-09-13</td>\n",
       "      <td>13:58:00</td>\n",
       "    </tr>\n",
       "  </tbody>\n",
       "</table>\n",
       "</div>"
      ],
      "text/plain": [
       "          City                                  Masterclass        Date  \\\n",
       "358      Delhi  Basics of Canva - A Graphic Design Platform  2020-08-14   \n",
       "359      Delhi  Basics of Canva - A Graphic Design Platform  2020-08-14   \n",
       "517     Mumbai  Basics of Canva - A Graphic Design Platform  2020-08-17   \n",
       "519     Mumbai  Basics of Canva - A Graphic Design Platform  2020-08-17   \n",
       "639       Pune  Basics of Canva - A Graphic Design Platform  2020-08-22   \n",
       "640       Pune  Basics of Canva - A Graphic Design Platform  2020-08-22   \n",
       "644       Pune  Basics of Canva - A Graphic Design Platform  2020-08-22   \n",
       "645       Pune  Basics of Canva - A Graphic Design Platform  2020-08-22   \n",
       "179      Sagar              The Basics Of Digital Marketing  2020-09-25   \n",
       "180      Sagar              The Basics Of Digital Marketing  2020-09-25   \n",
       "54       Delhi                          The Basics Of Excel  2020-10-05   \n",
       "56       Delhi                          The Basics Of Excel  2020-10-05   \n",
       "114     Mumbai                          The Basics Of Excel  2020-10-05   \n",
       "115     Mumbai                          The Basics Of Excel  2020-10-05   \n",
       "141      Delhi                          The Basics Of Excel  2020-10-05   \n",
       "142      Delhi                          The Basics Of Excel  2020-10-05   \n",
       "319     Mumbai                          The Basics Of Excel  2020-10-07   \n",
       "320     Mumbai                          The Basics Of Excel  2020-10-07   \n",
       "389       Imus                          The Basics Of Excel  2020-10-09   \n",
       "390       Imus                          The Basics Of Excel  2020-10-09   \n",
       "505  Bengaluru                          The Basics Of Excel  2020-10-15   \n",
       "506  Bengaluru                          The Basics Of Excel  2020-10-15   \n",
       "6         Pune                          Basic Video Editing  2020-07-28   \n",
       "7         Pune                          Basic Video Editing  2020-07-28   \n",
       "50     Nalbari                          Basic Video Editing  2020-07-28   \n",
       "51     Nalbari                          Basic Video Editing  2020-07-28   \n",
       "52     Nalbari                          Basic Video Editing  2020-07-28   \n",
       "191       Pune                          Basic Video Editing  2020-07-29   \n",
       "192       Pune                          Basic Video Editing  2020-07-29   \n",
       "277  Bengaluru                          Basic Video Editing  2020-07-29   \n",
       "278  Bengaluru                          Basic Video Editing  2020-07-29   \n",
       "288       Kota                          Basic Video Editing  2020-07-29   \n",
       "289       Kota                          Basic Video Editing  2020-07-29   \n",
       "331     Mumbai                          Basic Video Editing  2020-07-30   \n",
       "332     Mumbai                          Basic Video Editing  2020-07-30   \n",
       "358    Udaipur                          Basic Video Editing  2020-07-30   \n",
       "360    Udaipur                          Basic Video Editing  2020-07-30   \n",
       "97    Gurugram                           Whatsapp Marketing  2020-09-07   \n",
       "99    Gurugram                           Whatsapp Marketing  2020-09-07   \n",
       "220       Pune                           Whatsapp Marketing  2020-09-08   \n",
       "221       Pune                           Whatsapp Marketing  2020-09-08   \n",
       "369     Mumbai                           Whatsapp Marketing  2020-09-13   \n",
       "370     Mumbai                           Whatsapp Marketing  2020-09-13   \n",
       "384       Pune                           Whatsapp Marketing  2020-09-13   \n",
       "385       Pune                           Whatsapp Marketing  2020-09-13   \n",
       "\n",
       "         Time  \n",
       "358  16:25:00  \n",
       "359  16:25:00  \n",
       "517  22:55:00  \n",
       "519  22:55:00  \n",
       "639  22:08:00  \n",
       "640  22:08:00  \n",
       "644  22:19:00  \n",
       "645  22:19:00  \n",
       "179  11:29:00  \n",
       "180  11:29:00  \n",
       "54   00:10:00  \n",
       "56   00:10:00  \n",
       "114  10:06:00  \n",
       "115  10:06:00  \n",
       "141  12:01:00  \n",
       "142  12:01:00  \n",
       "319  14:46:00  \n",
       "320  14:46:00  \n",
       "389  15:34:00  \n",
       "390  15:34:00  \n",
       "505  16:25:00  \n",
       "506  16:25:00  \n",
       "6    16:52:00  \n",
       "7    16:52:00  \n",
       "50   18:12:00  \n",
       "51   18:12:00  \n",
       "52   18:12:00  \n",
       "191  10:53:00  \n",
       "192  10:53:00  \n",
       "277  21:41:00  \n",
       "278  21:41:00  \n",
       "288  22:38:00  \n",
       "289  22:38:00  \n",
       "331  11:07:00  \n",
       "332  11:07:00  \n",
       "358  15:11:00  \n",
       "360  15:11:00  \n",
       "97   12:12:00  \n",
       "99   12:12:00  \n",
       "220  11:48:00  \n",
       "221  11:48:00  \n",
       "369  11:43:00  \n",
       "370  11:43:00  \n",
       "384  13:58:00  \n",
       "385  13:58:00  "
      ]
     },
     "execution_count": 47,
     "metadata": {},
     "output_type": "execute_result"
    }
   ],
   "source": [
    "df_final[df_final.duplicated(['City','Masterclass','Date','Time'], keep=False)]"
   ]
  },
  {
   "cell_type": "markdown",
   "metadata": {},
   "source": [
    "**Now From This Let's Drop All The Duplicated Rows By Keeping The One of The Row Of The Duplicated Rows(Keeping First Unique Row)**"
   ]
  },
  {
   "cell_type": "code",
   "execution_count": 48,
   "metadata": {},
   "outputs": [],
   "source": [
    "df_final = df_final.drop_duplicates(keep='first')"
   ]
  },
  {
   "cell_type": "code",
   "execution_count": 49,
   "metadata": {},
   "outputs": [
    {
     "data": {
      "text/plain": [
       "(2933, 4)"
      ]
     },
     "execution_count": 49,
     "metadata": {},
     "output_type": "execute_result"
    }
   ],
   "source": [
    "df_final.shape"
   ]
  },
  {
   "cell_type": "code",
   "execution_count": 50,
   "metadata": {},
   "outputs": [
    {
     "data": {
      "text/plain": [
       "Basics of Canva - A Graphic Design Platform    661\n",
       "The Basics Of Excel                            651\n",
       "Basic Video Editing                            577\n",
       "Whatsapp Marketing                             384\n",
       "The Basics Of Digital Marketing                243\n",
       "The Podcast                                    222\n",
       "Public Speaking                                195\n",
       "Name: Masterclass, dtype: int64"
      ]
     },
     "execution_count": 50,
     "metadata": {},
     "output_type": "execute_result"
    }
   ],
   "source": [
    "df_final['Masterclass'].value_counts()"
   ]
  },
  {
   "cell_type": "markdown",
   "metadata": {},
   "source": [
    "**For Ensuring That City Names are Replaced Without Any Mistake**"
   ]
  },
  {
   "cell_type": "code",
   "execution_count": 51,
   "metadata": {},
   "outputs": [],
   "source": [
    "#to convert the city names to lowercase with first letter capital\n",
    "df_final['City'] = df_final['City'].str.title()"
   ]
  },
  {
   "cell_type": "code",
   "execution_count": 52,
   "metadata": {},
   "outputs": [],
   "source": [
    "#to convert the city names to lower with first letter capital\n",
    "df_final['City'] = df_final['City'].str.strip()"
   ]
  },
  {
   "cell_type": "code",
   "execution_count": 53,
   "metadata": {
    "scrolled": false
   },
   "outputs": [
    {
     "data": {
      "text/plain": [
       "array(['Accra', 'Agartala', 'Agra', 'Ahmedabad', 'Ahmedabad, Gujarat',\n",
       "       'Ahmednagar', 'Airoli', 'Aizawl', 'Ajmer', 'Akola', 'Alappuzha',\n",
       "       'Algiers', 'Alibag', 'Aligarh', 'Allahabad', 'Ambajogai',\n",
       "       'Ambikapur', 'Ambur', 'Amravati', 'Amritsar', 'Anand', 'Anantapur',\n",
       "       'Ankleshwar', 'Ankola', 'Ansan', 'Ariyalur', 'Arrah', 'Arwal',\n",
       "       'Asansol', 'Assam', 'Athens', 'Auraiya', 'Aurangabad',\n",
       "       'Aurangabad ,Bihar', 'Ayodhya', 'Azamgarh', 'Bacolod City',\n",
       "       'Bacoor', 'Baguio City', 'Baidyapur, Burdwan', 'Balangir', 'Baler',\n",
       "       'Ballabgarh', 'Ballari', 'Balliya', 'Balurghat', 'Bandung',\n",
       "       'Bankura', 'Baramati', 'Bareilly', 'Bareli', 'Bargarh', 'Barh',\n",
       "       'Bari', 'Baripada', 'Bastar', 'Bathinda', 'Beawar', 'Beed',\n",
       "       'Begusarai', 'Bekasi', 'Belgaum', 'Beltola Tiniali', 'Bengaluru',\n",
       "       'Bhagalpur', 'Bharatpur', 'Bhilai', 'Bhilwara', 'Bhiwadi',\n",
       "       'Bhiwandi', 'Bhopal', 'Bhubaneshwar', 'Bhubaneswar', 'Bhusawal',\n",
       "       'Bidar', 'Bihar', 'Biharsharif', 'Bijni', 'Bikramganj',\n",
       "       'Bilasipara', 'Bilaspur', 'Bodhan', 'Boisar', 'Bokaro Steel City',\n",
       "       'Bongaigaon', 'Brussels', 'Bulandshahr', 'Burdwan', 'Burhanpur',\n",
       "       'Bustos Bulacan', 'Buxar', 'Cagayan De Oro City', 'Cainta Rizal',\n",
       "       'Calabar', 'Calicut', 'Caloocan', 'Caloocan City', 'Casablanca',\n",
       "       'Cavite', 'Chabua', 'Chakdaha', 'Chamarajnagar', 'Chandigarh',\n",
       "       'Chapra', 'Chattogram', 'Chengannur', 'Chennai', 'Chhapra',\n",
       "       'Chhatarpur', 'Chikarada', 'Chinchwad', 'Chirimiri', 'Chittagong',\n",
       "       'Chittaranjan', 'Chittorgarh', 'Cluj-Napoca', 'Cochin',\n",
       "       'Coimbatore', 'Cooch Behar', 'Damietta', 'Dapoli', 'Darbhanga',\n",
       "       'Dasmariñas City', 'Davao City', 'Dehradun', 'Delhi',\n",
       "       'Deulgaon Raja', 'Dewas', 'Dhaka', 'Dhanbad', 'Dharamshala',\n",
       "       'Dharmapuri', 'Dhenkanal', 'Dhule', 'Dibrugarh', 'Digboi',\n",
       "       'Dimapur', 'Doha', 'Dubai', 'Dublin', 'Dumka', 'Durg', 'Durgapur',\n",
       "       'Edmonton', 'Eluru', 'Ernakulam', 'Erode', 'Estero', 'Faridabad',\n",
       "       'Farrukhabad', 'Frederick', 'Gadag', 'Gadarpur', 'Gandevi',\n",
       "       'Gandhidham', 'Gandhinagar', 'Gangapur City', 'Gangtok', 'Gaya',\n",
       "       'General Trias City', 'Ghaziabad', 'Goa', 'Goalpara', 'Godhara',\n",
       "       'Gohpur', 'Golaghat', 'Gombe', 'Gonda', 'Gondia', 'Gopalganj',\n",
       "       'Gorakhpur', 'Goregaon', 'Greater Noida', 'Gresik Regency',\n",
       "       'Guagua', 'Gujarat', 'Gumla', 'Guntur', 'Gurugram', 'Guwahati',\n",
       "       'Gwalior', 'Haflong', 'Hajipur', 'Haldwani', 'Hapur', 'Harare',\n",
       "       'Harda', 'Hardoi', 'Haridwar', 'Haryana', 'Hingoli', 'Hisar',\n",
       "       'Hooghly', 'Hoshangabad', 'Hosur', 'Houston', 'Hyderabad',\n",
       "       'Ibadan', 'Ichalkaranji', 'Iloilo', 'Imphal', 'Imus', 'Indore',\n",
       "       'Inkollu', 'Islampur', 'Istanbul', 'Itanagar', 'Jabalpur',\n",
       "       'Jagdalpur', 'Jahanabad', 'Jaipur', 'Jaitu', 'Jajpur', 'Jakarta',\n",
       "       'Jalandhar', 'Jalgaon', 'Jalgaon Jamod', 'Jalna', 'Jalore',\n",
       "       'Jammu', 'Jammu And Kashmir', 'Jamnagar', 'Jamshedpur', 'Janjgir',\n",
       "       'Jaunpur', 'Jehanabad', 'Jeypore', 'Jhajjar', 'Jhansi',\n",
       "       'Jharakhand', 'Jhunjhunu', 'Jhunjhunun', 'Jind', 'Jodhpur',\n",
       "       'Johannesburg', 'Jorhat', 'Kadapa', 'Kakinada', 'Kalaburagi',\n",
       "       'Kalady', 'Kalyan', 'Kalyani', 'Kampala', 'Kamrup Metropolitan',\n",
       "       'Kanchipuram', 'Kangra', 'Kannur', 'Kanpur', 'Karachi', 'Karad',\n",
       "       'Karauli', 'Karbi Anglong', 'Karimnagar', 'Karkala', 'Karnal',\n",
       "       'Kasaragod', 'Kathua', 'Katihar', 'Katni', 'Katsina', 'Kekri',\n",
       "       'Kerala', 'Kesinga', 'Khambhat', 'Khandwa', 'Kharghar', 'Khariar',\n",
       "       'Khatima', 'Khordha', 'Kochi', 'Kohima', 'Kolar', 'Kolding',\n",
       "       'Kolhapur', 'Kolkata', 'Kollam', 'Kondagaon', 'Kondapalli',\n",
       "       'Kopargaon', 'Koraput', 'Korba', 'Kosi Kalan', 'Kota', 'Kottayam',\n",
       "       'Kozhikode', 'Kuala Lumpur', 'Kuchaman City', 'Kuppam',\n",
       "       'Kuruksethra', 'Kurukshetra', 'Ladakh', 'Lagos', 'Lahore',\n",
       "       'Lakhimpur', 'Las Piñas City, Metro Manila', 'Latur',\n",
       "       'Lebanon-Saida', 'Leh', 'Lohardaga', 'Lonavala', 'London', 'Loni',\n",
       "       'Los Banos', 'Lucknow', 'Ludhiana', 'Lunawada', 'Lusaka',\n",
       "       'Madhuban', 'Madhubani', 'Madhya Pradesh', 'Madurai', 'Maihar',\n",
       "       'Malappuram', 'Malaysia', 'Male', 'Malegaon', 'Malkapur', 'Malout',\n",
       "       'Manapparai', 'Manchar', 'Mancherial', 'Mandaluyong', 'Mandsaur',\n",
       "       'Mangaldai', 'Mangalore', 'Manila', 'Manila Philippines',\n",
       "       'Manipal', 'Manjeri', 'Mansa', 'Mapusa', 'Maramag', 'Margao',\n",
       "       'Marrakech', 'Mathura', 'Medina', 'Meerut', 'Meghalaya',\n",
       "       'Melbourne', 'Miri', 'Mohali', 'Moradabad', 'Morgaon', 'Morigaon',\n",
       "       'Motihari', 'Mudbidri', 'Mudipu', 'Mujaffarpur', 'Mukteshwar',\n",
       "       'Mumbai', 'Munger', 'Muntinlupa', 'Muradnagar', 'Muscat',\n",
       "       'Muzaffarpur', 'Muzzafurpur', 'Mysuru', 'Nadiad', 'Nagaon',\n",
       "       'Nagda', 'Nagercoil', 'Nagothane', 'Nagpur', 'Nainital', 'Nairobi',\n",
       "       'Nakonde', 'Nala Sopara', 'Nalbari', 'Nanded', 'Nashik', 'Nasik',\n",
       "       'Nasriganj', 'Navi Mumbai', 'Nawanshahr', 'Neemuch', 'Nellore',\n",
       "       'Newcastle', 'Nizamabad', 'Noida', 'Nottingham', 'Nuh', 'Odisha',\n",
       "       'Oragitok', 'Osmanabad', 'Oton', 'Pachora', 'Palakkad', 'Palampur',\n",
       "       'Palanpur', 'Panaji', 'Panchkula', 'Panipat', 'Parasi', 'Parbhani',\n",
       "       'Parli', 'Pasay City', 'Pasig', 'Pasighat', 'Pathalgaon',\n",
       "       'Pathanamthitta', 'Patiala', 'Patna', 'Phaltan', 'Philippines',\n",
       "       'Pilani', 'Pimpari Chinchwad', 'Pimple Saudagar',\n",
       "       'Pimpri Chinchwad', 'Porbandar', 'Prayagraj', 'Pretoria', 'Pune',\n",
       "       'Puri', 'Pusad', 'Puttur', 'Quezon City', 'Raebareli', 'Raichur',\n",
       "       'Raipur', 'Rajabala', 'Rajam', 'Rajasthan', 'Rajkot',\n",
       "       'Rajnandgaon', 'Ranchi', 'Rasra', 'Ratlam', 'Ratnagiri',\n",
       "       'Rayagada', 'Rewa', 'Rewari', 'Riyadh', 'Robertsganj', 'Rohtak',\n",
       "       'Roorkee', 'Rourkela', 'Rupnagar', 'Sagar', 'Saharanpur',\n",
       "       'Sahibganj', 'Saida', 'Salem', 'Samarinda', 'Samastipur',\n",
       "       'San Carlos City', 'San Jose Del Monte', 'Sanchi', 'Sangareddy',\n",
       "       'Sangli', 'Santrampur', 'Sasaram', 'Satara', 'Satna',\n",
       "       'Secunderabad', 'Selangor', 'Shadnagar', 'Shahada', 'Shahjahanpur',\n",
       "       'Shamli', 'Shani Shingnapur', 'Sheoganj', 'Shillong', 'Shimla',\n",
       "       'Shirdi', 'Sibsagar', 'Silang', 'Silchar', 'Siliguri', 'Singapore',\n",
       "       'Sitamarhi', 'Sivasagar', 'Siwan', 'Sofades', 'Solapur',\n",
       "       'Sonbhadra', 'Sri Ganganagar', 'Srimadhopur', 'Srinagar',\n",
       "       'Suchitra', 'Sullurpeta', 'Sultanpur', 'Sunset Avenue', 'Sunyani',\n",
       "       'Surabaya', 'Surat', 'Surigao City', 'Surjapur', 'Taguig',\n",
       "       'Talasari', 'Tamilnadu', 'Tarlac City', 'Tema', 'Tezpur',\n",
       "       'Thalassery', 'Thane', 'Theni Allinagaram', 'Thiruvalla',\n",
       "       'Thiruvananthapuram', 'Thrippunithura', 'Thrissur', 'Tinsukia',\n",
       "       'Tiruchirappalli', 'Tirupathi', 'Tirupati', 'Tiruvalla',\n",
       "       'Trivandrum', 'Tuljapur', 'Tumakuru', 'Tumkur', 'Tummalagunta',\n",
       "       'Tura', 'Uae', 'Udaipur', 'Udaipur, Tripura', 'Udupi', 'Ujjain',\n",
       "       'Uttarakhand', 'Vadodara', 'Valencia City', 'Valsad', 'Varanasi',\n",
       "       'Vasco Da Gama', 'Velachery', 'Vellore', 'Vijayapur', 'Vijayawada',\n",
       "       'Vijaypur', 'Visakhapatnam', 'Vishakhapatnam', 'Vishakhapattanam',\n",
       "       'Vizianagaram', 'Vrindavan', 'Wai', 'Wani', 'Wanwarla, Pusad',\n",
       "       'Warangal', 'Wardha', 'Washi', 'Washim', 'West Bengal',\n",
       "       'West Godavari', 'Windhoek', 'Yamunanagar', 'Yavatmal', 'Yobe',\n",
       "       'Zaria', 'Zirakpur'], dtype=object)"
      ]
     },
     "execution_count": 53,
     "metadata": {},
     "output_type": "execute_result"
    }
   ],
   "source": [
    "df_final['City'].sort_values().unique()"
   ]
  },
  {
   "cell_type": "markdown",
   "metadata": {},
   "source": [
    "### Final Cleaning Of The City Column In The Merged Dataset"
   ]
  },
  {
   "cell_type": "code",
   "execution_count": 54,
   "metadata": {},
   "outputs": [],
   "source": [
    "df_final['City'] = df_final['City'].replace('Ahmedabad, Gujarat','Ahmedabad').replace('Aurangabad ,Bihar','Aurangabad')\\\n",
    ".replace('Bareli','Bareli, Madhya Pradesh').replace('Bareilly','Bareilly,Uttar Pradesh')\\\n",
    ".replace('Bhiwandi','Maharashtra').replace('Bhiwadi','Rajasthan').replace('Bhubaneshwar','Bhubaneswar')\\\n",
    ".replace('Caloocan City','Caloocan').replace('Chhapra','Chapra').replace('Jalgaon Jamod','Jalgaon')\\\n",
    ".replace('Jhunjhunun','Jhunjhunu').replace('Kalyan','Kalyan,Maharashtra').replace('Kalyani','Kalyani, West Bengal')\\\n",
    ".replace('Kuruksethra','Kurukshetra').replace('Las Piñas City, Metro Manila','Las Pinas')\\\n",
    ".replace('Madhuban','Assam').replace('Madhubani','Madhubani, Bihar').replace('Manila Philippines','Manila')\\\n",
    ".replace('Muzzafurpur','Muzaffarpur').replace('Nuh','Nuh,Haryana').replace('Pimpari Chinchwad','Pimpri Chinchwad')\\\n",
    ".replace('Sunset Avenue','Sunset Avenue, Atlanta').replace('Tirupathi','Tirupati').replace('Udaipur','Udaipur,Rajasthan')\\\n",
    ".replace('Vishakhapatnam','Visakhapatnam').replace('Vishakhapattanam','Visakhapatnam')\\\n",
    ".replace('Wanwarla, Pusad','Wanwarla,Maharashtra').replace('Dasmariñas City','Dasmarinas')\\\n",
    ".replace('Allahabad','Prayagraj').replace('Baidyapur, Burdwan','Baidyapur').replace('Trivandrum','Thiruvananthapuram')\\\n",
    ".replace('Jharakhand','Jharkhand')"
   ]
  },
  {
   "cell_type": "markdown",
   "metadata": {},
   "source": [
    "### Now, Creating A List Of All The International/Abroad Locations To Create A Additional Column For Better Analysis Of The Datasets."
   ]
  },
  {
   "cell_type": "code",
   "execution_count": 55,
   "metadata": {},
   "outputs": [],
   "source": [
    "international_list = ['sunyani','singapore','kolding','saida','nakonde','lusaka','dhaka','duscat','doha',\n",
    "                      'estero','chittagong','chattogram','dhaka','nottingham','accra','maramag' ,\n",
    "                      'lebanon-saida', 'ansan', 'cavite' ,'calabar' ,'ibadan', 'athens', 'dublin' , 'miri',\n",
    "                      'pasay city','sunset avenue, atlanta','karachi','bustos bulacan', 'silang' ,'iloilo' ,'bacoor',\n",
    "                      'kuala lumpur', 'casablanca' ,'frederick','riyadh' ,'bandung','quezon city', 'las pinas',\n",
    "                      'medina' ,'bacolod city','melbourne' ,'mandaluyong' , 'cainta rizal',\n",
    "                      'harare','marrakech' , 'houston' ,'tema', 'general trias city', 'dasmarinas',\n",
    "                      'philippines', 'zaria','selangor' , 'lagos', 'pretoria','cagayan de oro city', 'jakarta',\n",
    "                      'tarlac city','bingabon','muntinlupa' ,'gresik regency','edmonton','samarinda','san jose del monte',\n",
    "                      'yobe' ,'cluj-napoca' , 'bekasi','katsina','taguig','gombe','nairobi','kampala' ,\n",
    "                      'johannesburg' ,'windhoek', 'algiers' , 'lahore' ,'surigao city', 'pasig',\n",
    "                      'manila','sofades','newcastle' ,'guagua','davao city','baguio city','valencia city',\n",
    "                     'damietta','baler','los banos','caloocan' ,'san carlos city', 'dubai' , 'brussels','uae',\n",
    "                     'istanbul','malaysia','muscat','male','bari','imus','surabaya','london','oton']"
   ]
  },
  {
   "cell_type": "markdown",
   "metadata": {},
   "source": [
    "#### Creating A Column 'Place_Of_Registeration' - For Indicating Whether A Registeration Is Made From India Or Outside Of India"
   ]
  },
  {
   "cell_type": "code",
   "execution_count": 56,
   "metadata": {},
   "outputs": [],
   "source": [
    "df_final['Place_Of_Registeration'] = df_final['City']"
   ]
  },
  {
   "cell_type": "code",
   "execution_count": 57,
   "metadata": {},
   "outputs": [],
   "source": [
    "for (x,y) in df_final.iterrows():\n",
    "\n",
    "    if str.lower(y.Place_Of_Registeration) in international_list:\n",
    "        df_final['Place_Of_Registeration'].replace(to_replace=y.Place_Of_Registeration, value='Outside India', inplace=True)"
   ]
  },
  {
   "cell_type": "code",
   "execution_count": 58,
   "metadata": {},
   "outputs": [
    {
     "data": {
      "text/html": [
       "<div>\n",
       "<style scoped>\n",
       "    .dataframe tbody tr th:only-of-type {\n",
       "        vertical-align: middle;\n",
       "    }\n",
       "\n",
       "    .dataframe tbody tr th {\n",
       "        vertical-align: top;\n",
       "    }\n",
       "\n",
       "    .dataframe thead th {\n",
       "        text-align: right;\n",
       "    }\n",
       "</style>\n",
       "<table border=\"1\" class=\"dataframe\">\n",
       "  <thead>\n",
       "    <tr style=\"text-align: right;\">\n",
       "      <th></th>\n",
       "      <th>City</th>\n",
       "      <th>Masterclass</th>\n",
       "      <th>Date</th>\n",
       "      <th>Time</th>\n",
       "      <th>Place_Of_Registeration</th>\n",
       "    </tr>\n",
       "  </thead>\n",
       "  <tbody>\n",
       "    <tr>\n",
       "      <th>137</th>\n",
       "      <td>Nairobi</td>\n",
       "      <td>Basics of Canva - A Graphic Design Platform</td>\n",
       "      <td>2020-08-10</td>\n",
       "      <td>19:33:00</td>\n",
       "      <td>Outside India</td>\n",
       "    </tr>\n",
       "    <tr>\n",
       "      <th>299</th>\n",
       "      <td>Kampala</td>\n",
       "      <td>Basics of Canva - A Graphic Design Platform</td>\n",
       "      <td>2020-08-13</td>\n",
       "      <td>00:00:00</td>\n",
       "      <td>Outside India</td>\n",
       "    </tr>\n",
       "    <tr>\n",
       "      <th>313</th>\n",
       "      <td>Johannesburg</td>\n",
       "      <td>Basics of Canva - A Graphic Design Platform</td>\n",
       "      <td>2020-08-13</td>\n",
       "      <td>12:50:00</td>\n",
       "      <td>Outside India</td>\n",
       "    </tr>\n",
       "    <tr>\n",
       "      <th>333</th>\n",
       "      <td>Windhoek</td>\n",
       "      <td>Basics of Canva - A Graphic Design Platform</td>\n",
       "      <td>2020-08-13</td>\n",
       "      <td>17:28:00</td>\n",
       "      <td>Outside India</td>\n",
       "    </tr>\n",
       "    <tr>\n",
       "      <th>386</th>\n",
       "      <td>Caloocan</td>\n",
       "      <td>Basics of Canva - A Graphic Design Platform</td>\n",
       "      <td>2020-08-16</td>\n",
       "      <td>08:53:00</td>\n",
       "      <td>Outside India</td>\n",
       "    </tr>\n",
       "    <tr>\n",
       "      <th>...</th>\n",
       "      <td>...</td>\n",
       "      <td>...</td>\n",
       "      <td>...</td>\n",
       "      <td>...</td>\n",
       "      <td>...</td>\n",
       "    </tr>\n",
       "    <tr>\n",
       "      <th>108</th>\n",
       "      <td>Lusaka</td>\n",
       "      <td>Whatsapp Marketing</td>\n",
       "      <td>2020-09-07</td>\n",
       "      <td>12:51:00</td>\n",
       "      <td>Outside India</td>\n",
       "    </tr>\n",
       "    <tr>\n",
       "      <th>199</th>\n",
       "      <td>Nakonde</td>\n",
       "      <td>Whatsapp Marketing</td>\n",
       "      <td>2020-09-08</td>\n",
       "      <td>03:01:00</td>\n",
       "      <td>Outside India</td>\n",
       "    </tr>\n",
       "    <tr>\n",
       "      <th>299</th>\n",
       "      <td>Saida</td>\n",
       "      <td>Whatsapp Marketing</td>\n",
       "      <td>2020-09-10</td>\n",
       "      <td>03:10:00</td>\n",
       "      <td>Outside India</td>\n",
       "    </tr>\n",
       "    <tr>\n",
       "      <th>326</th>\n",
       "      <td>Kolding</td>\n",
       "      <td>Whatsapp Marketing</td>\n",
       "      <td>2020-09-11</td>\n",
       "      <td>21:37:00</td>\n",
       "      <td>Outside India</td>\n",
       "    </tr>\n",
       "    <tr>\n",
       "      <th>362</th>\n",
       "      <td>Singapore</td>\n",
       "      <td>Whatsapp Marketing</td>\n",
       "      <td>2020-09-13</td>\n",
       "      <td>04:50:00</td>\n",
       "      <td>Outside India</td>\n",
       "    </tr>\n",
       "  </tbody>\n",
       "</table>\n",
       "<p>139 rows × 5 columns</p>\n",
       "</div>"
      ],
      "text/plain": [
       "             City                                  Masterclass        Date  \\\n",
       "137       Nairobi  Basics of Canva - A Graphic Design Platform  2020-08-10   \n",
       "299       Kampala  Basics of Canva - A Graphic Design Platform  2020-08-13   \n",
       "313  Johannesburg  Basics of Canva - A Graphic Design Platform  2020-08-13   \n",
       "333      Windhoek  Basics of Canva - A Graphic Design Platform  2020-08-13   \n",
       "386      Caloocan  Basics of Canva - A Graphic Design Platform  2020-08-16   \n",
       "..            ...                                          ...         ...   \n",
       "108        Lusaka                           Whatsapp Marketing  2020-09-07   \n",
       "199       Nakonde                           Whatsapp Marketing  2020-09-08   \n",
       "299         Saida                           Whatsapp Marketing  2020-09-10   \n",
       "326       Kolding                           Whatsapp Marketing  2020-09-11   \n",
       "362     Singapore                           Whatsapp Marketing  2020-09-13   \n",
       "\n",
       "         Time Place_Of_Registeration  \n",
       "137  19:33:00          Outside India  \n",
       "299  00:00:00          Outside India  \n",
       "313  12:50:00          Outside India  \n",
       "333  17:28:00          Outside India  \n",
       "386  08:53:00          Outside India  \n",
       "..        ...                    ...  \n",
       "108  12:51:00          Outside India  \n",
       "199  03:01:00          Outside India  \n",
       "299  03:10:00          Outside India  \n",
       "326  21:37:00          Outside India  \n",
       "362  04:50:00          Outside India  \n",
       "\n",
       "[139 rows x 5 columns]"
      ]
     },
     "execution_count": 58,
     "metadata": {},
     "output_type": "execute_result"
    }
   ],
   "source": [
    "Outside_india = df_final[df_final.Place_Of_Registeration == 'Outside India']\n",
    "Outside_india"
   ]
  },
  {
   "cell_type": "code",
   "execution_count": 59,
   "metadata": {},
   "outputs": [],
   "source": [
    "for i in df_final['Place_Of_Registeration']:\n",
    "    if i!='Outside India':\n",
    "        df_final['Place_Of_Registeration']=df_final['Place_Of_Registeration'].str.replace(i,'India')"
   ]
  },
  {
   "cell_type": "code",
   "execution_count": 60,
   "metadata": {},
   "outputs": [
    {
     "data": {
      "text/html": [
       "<div>\n",
       "<style scoped>\n",
       "    .dataframe tbody tr th:only-of-type {\n",
       "        vertical-align: middle;\n",
       "    }\n",
       "\n",
       "    .dataframe tbody tr th {\n",
       "        vertical-align: top;\n",
       "    }\n",
       "\n",
       "    .dataframe thead th {\n",
       "        text-align: right;\n",
       "    }\n",
       "</style>\n",
       "<table border=\"1\" class=\"dataframe\">\n",
       "  <thead>\n",
       "    <tr style=\"text-align: right;\">\n",
       "      <th></th>\n",
       "      <th>City</th>\n",
       "      <th>Masterclass</th>\n",
       "      <th>Date</th>\n",
       "      <th>Time</th>\n",
       "      <th>Place_Of_Registeration</th>\n",
       "    </tr>\n",
       "  </thead>\n",
       "  <tbody>\n",
       "    <tr>\n",
       "      <th>0</th>\n",
       "      <td>Bhopal</td>\n",
       "      <td>Basics of Canva - A Graphic Design Platform</td>\n",
       "      <td>2020-08-09</td>\n",
       "      <td>21:10:00</td>\n",
       "      <td>India</td>\n",
       "    </tr>\n",
       "    <tr>\n",
       "      <th>1</th>\n",
       "      <td>Delhi</td>\n",
       "      <td>Basics of Canva - A Graphic Design Platform</td>\n",
       "      <td>2020-08-09</td>\n",
       "      <td>21:27:00</td>\n",
       "      <td>India</td>\n",
       "    </tr>\n",
       "    <tr>\n",
       "      <th>2</th>\n",
       "      <td>Pune</td>\n",
       "      <td>Basics of Canva - A Graphic Design Platform</td>\n",
       "      <td>2020-08-09</td>\n",
       "      <td>21:29:00</td>\n",
       "      <td>India</td>\n",
       "    </tr>\n",
       "    <tr>\n",
       "      <th>3</th>\n",
       "      <td>Hyderabad</td>\n",
       "      <td>Basics of Canva - A Graphic Design Platform</td>\n",
       "      <td>2020-08-09</td>\n",
       "      <td>21:30:00</td>\n",
       "      <td>India</td>\n",
       "    </tr>\n",
       "    <tr>\n",
       "      <th>4</th>\n",
       "      <td>Mumbai</td>\n",
       "      <td>Basics of Canva - A Graphic Design Platform</td>\n",
       "      <td>2020-08-09</td>\n",
       "      <td>21:36:00</td>\n",
       "      <td>India</td>\n",
       "    </tr>\n",
       "  </tbody>\n",
       "</table>\n",
       "</div>"
      ],
      "text/plain": [
       "        City                                  Masterclass        Date  \\\n",
       "0     Bhopal  Basics of Canva - A Graphic Design Platform  2020-08-09   \n",
       "1      Delhi  Basics of Canva - A Graphic Design Platform  2020-08-09   \n",
       "2       Pune  Basics of Canva - A Graphic Design Platform  2020-08-09   \n",
       "3  Hyderabad  Basics of Canva - A Graphic Design Platform  2020-08-09   \n",
       "4     Mumbai  Basics of Canva - A Graphic Design Platform  2020-08-09   \n",
       "\n",
       "       Time Place_Of_Registeration  \n",
       "0  21:10:00                  India  \n",
       "1  21:27:00                  India  \n",
       "2  21:29:00                  India  \n",
       "3  21:30:00                  India  \n",
       "4  21:36:00                  India  "
      ]
     },
     "execution_count": 60,
     "metadata": {},
     "output_type": "execute_result"
    }
   ],
   "source": [
    "df_final.head()"
   ]
  },
  {
   "cell_type": "code",
   "execution_count": 61,
   "metadata": {
    "scrolled": true
   },
   "outputs": [
    {
     "data": {
      "text/plain": [
       "India            2794\n",
       "Outside India     139\n",
       "Name: Place_Of_Registeration, dtype: int64"
      ]
     },
     "execution_count": 61,
     "metadata": {},
     "output_type": "execute_result"
    }
   ],
   "source": [
    "df_final['Place_Of_Registeration'].value_counts()"
   ]
  },
  {
   "cell_type": "markdown",
   "metadata": {},
   "source": [
    "## 📌 Creating Some Additional Columns For Country And States For Better Analysis and Data Visualization On Tableau"
   ]
  },
  {
   "cell_type": "code",
   "execution_count": 62,
   "metadata": {},
   "outputs": [],
   "source": [
    "df_final['State'] = df_final['City']"
   ]
  },
  {
   "cell_type": "code",
   "execution_count": 63,
   "metadata": {},
   "outputs": [],
   "source": [
    "df_final['Country'] = df_final['City']"
   ]
  },
  {
   "cell_type": "markdown",
   "metadata": {},
   "source": [
    "### Creating A Dictionary For Country Names Of Abroad Cities"
   ]
  },
  {
   "cell_type": "code",
   "execution_count": 64,
   "metadata": {},
   "outputs": [],
   "source": [
    "abroad_country ={  \n",
    "'Accra' : 'Ghana','Algiers' : 'Algeria','Ansan' : 'South Korea','Athens' : 'Greece','Bacolod City' : 'Philippines',\n",
    "'Bacoor' : 'Philippines','Baguio City' : 'Spain','Baler' : 'Philippines','Bari' : 'Italy','Bandung': 'Indonesia',\n",
    "'Bekasi' :'Indonesia','Brussels' :'Belgium','Bustos Bulacan' :'Philippines','Cagayan De Oro City':'Philippines',\n",
    "'Cainta Rizal':'Philippines','Calabar':'Nigeria','Caloocan':'Philippines','Casablanca' : 'Morocco',\n",
    "'Cavite' : 'Philippines','Chattogram' : 'Bangladesh','Cluj-Napoca' : 'Romania','Damietta' : 'Egypt',\n",
    "'Davao City' : 'Philippines','Dasmarinas' : 'Philippines','Dhaka': 'Bangladesh','Chittagong': 'Bangladesh','Doha': 'Qatar',\n",
    "'Dublin': 'Ireland','Edmonton' : 'Canada','Estero' : 'United States','Frederick' : 'United States',\n",
    "'General Trias City' : 'Philippines','Gombe' : 'Nigeria','Gresik Regency': 'Indonesia','Guagua' : 'Philippines',\n",
    "'Harare' : 'Zimbabwe','Houston' : 'United States','Ibadan' : 'Nigeria','Iloilo' : 'Philippines','Imus' : 'Philippines',\n",
    "'Istanbul' : 'Turkey','Jakarta' : 'Indonesia','Johannesburg' : 'South Africa','Kampala' : 'Uganda',\n",
    "'Karachi': 'Pakistan','Katsina': 'Nigeria','Kolding': 'Denmark','Kuala Lumpur': 'Malaysia','Lagos' : 'Nigeria',\n",
    "'Lahore' :'Pakistan','Las Pinas' :'Philippines','Los Banos': 'United States','London' : 'United Kingdom','Lusaka' :'Zambia',\n",
    "'Malaysia': 'Malaysia','Male': 'Maldives','Mandaluyong': 'Philippines','Manila' :'Philippines','Maramag': 'Philippines',\n",
    "'Marrakech': 'Morocco','Medina': 'Saudi Arabia','Melbourne' :'Australia','Miri' :'Malaysia','Muntinlupa' :'Philippines',\n",
    "'Muscat': 'Oman','Nairobi' :'Kenya','Nakonde': 'Zambia','Newcastle' :'United Kingdom','Nottingham' :'United Kingdom',\n",
    "'Pasay City': 'Philippines','Pasig': 'Philippines','Philippines' :'Philippines','Pretoria' :'South Africa',\n",
    "'Quezon City': 'Philippines','Riyadh' :'Saudi Arabia','Saida': 'Algeria','Samarinda' :'Indonesia',\n",
    "'San Carlos City' :'Philippines','San Jose Del Monte' :'Philippines','Selangor' :'Malaysia','Silang': 'Philippines',\n",
    "'Singapore' :'Singapore','Surabaya' : 'Indonesia','Sofades': 'Greece','Sunset Avenue, Atlanta': 'United States',\n",
    "'Sunyani' :'Ghana','Surigao City': 'Philippines','Oton' : 'Philippines','Taguig' :'Philippines',\n",
    "'Tarlac City': 'Philippines','Tema' :'Ghana','Uae' :'United Arab Emirates','Valencia City' :'Spain',\n",
    "'Lebanon-Saida' : 'Lebanon','Windhoek' :'Namibia','Yobe': 'Nigeria','Zaria' :'Nigeria','Dubai' : 'United Arab Emirates'\n",
    "}"
   ]
  },
  {
   "cell_type": "code",
   "execution_count": 65,
   "metadata": {},
   "outputs": [],
   "source": [
    "df_final['Country'] = df_final['Country'].map(abroad_country)"
   ]
  },
  {
   "cell_type": "markdown",
   "metadata": {},
   "source": [
    "### Now For The Rest Of The Values In The Country Column We Can Fill 'India'"
   ]
  },
  {
   "cell_type": "code",
   "execution_count": 66,
   "metadata": {},
   "outputs": [],
   "source": [
    "df_final['Country'] = df_final['Country'].fillna('India')"
   ]
  },
  {
   "cell_type": "code",
   "execution_count": 67,
   "metadata": {},
   "outputs": [
    {
     "data": {
      "text/html": [
       "<div>\n",
       "<style scoped>\n",
       "    .dataframe tbody tr th:only-of-type {\n",
       "        vertical-align: middle;\n",
       "    }\n",
       "\n",
       "    .dataframe tbody tr th {\n",
       "        vertical-align: top;\n",
       "    }\n",
       "\n",
       "    .dataframe thead th {\n",
       "        text-align: right;\n",
       "    }\n",
       "</style>\n",
       "<table border=\"1\" class=\"dataframe\">\n",
       "  <thead>\n",
       "    <tr style=\"text-align: right;\">\n",
       "      <th></th>\n",
       "      <th>City</th>\n",
       "      <th>Masterclass</th>\n",
       "      <th>Date</th>\n",
       "      <th>Time</th>\n",
       "      <th>Place_Of_Registeration</th>\n",
       "      <th>State</th>\n",
       "      <th>Country</th>\n",
       "    </tr>\n",
       "  </thead>\n",
       "  <tbody>\n",
       "    <tr>\n",
       "      <th>0</th>\n",
       "      <td>Bhopal</td>\n",
       "      <td>Basics of Canva - A Graphic Design Platform</td>\n",
       "      <td>2020-08-09</td>\n",
       "      <td>21:10:00</td>\n",
       "      <td>India</td>\n",
       "      <td>Bhopal</td>\n",
       "      <td>India</td>\n",
       "    </tr>\n",
       "    <tr>\n",
       "      <th>1</th>\n",
       "      <td>Delhi</td>\n",
       "      <td>Basics of Canva - A Graphic Design Platform</td>\n",
       "      <td>2020-08-09</td>\n",
       "      <td>21:27:00</td>\n",
       "      <td>India</td>\n",
       "      <td>Delhi</td>\n",
       "      <td>India</td>\n",
       "    </tr>\n",
       "    <tr>\n",
       "      <th>2</th>\n",
       "      <td>Pune</td>\n",
       "      <td>Basics of Canva - A Graphic Design Platform</td>\n",
       "      <td>2020-08-09</td>\n",
       "      <td>21:29:00</td>\n",
       "      <td>India</td>\n",
       "      <td>Pune</td>\n",
       "      <td>India</td>\n",
       "    </tr>\n",
       "    <tr>\n",
       "      <th>3</th>\n",
       "      <td>Hyderabad</td>\n",
       "      <td>Basics of Canva - A Graphic Design Platform</td>\n",
       "      <td>2020-08-09</td>\n",
       "      <td>21:30:00</td>\n",
       "      <td>India</td>\n",
       "      <td>Hyderabad</td>\n",
       "      <td>India</td>\n",
       "    </tr>\n",
       "    <tr>\n",
       "      <th>4</th>\n",
       "      <td>Mumbai</td>\n",
       "      <td>Basics of Canva - A Graphic Design Platform</td>\n",
       "      <td>2020-08-09</td>\n",
       "      <td>21:36:00</td>\n",
       "      <td>India</td>\n",
       "      <td>Mumbai</td>\n",
       "      <td>India</td>\n",
       "    </tr>\n",
       "  </tbody>\n",
       "</table>\n",
       "</div>"
      ],
      "text/plain": [
       "        City                                  Masterclass        Date  \\\n",
       "0     Bhopal  Basics of Canva - A Graphic Design Platform  2020-08-09   \n",
       "1      Delhi  Basics of Canva - A Graphic Design Platform  2020-08-09   \n",
       "2       Pune  Basics of Canva - A Graphic Design Platform  2020-08-09   \n",
       "3  Hyderabad  Basics of Canva - A Graphic Design Platform  2020-08-09   \n",
       "4     Mumbai  Basics of Canva - A Graphic Design Platform  2020-08-09   \n",
       "\n",
       "       Time Place_Of_Registeration      State Country  \n",
       "0  21:10:00                  India     Bhopal   India  \n",
       "1  21:27:00                  India      Delhi   India  \n",
       "2  21:29:00                  India       Pune   India  \n",
       "3  21:30:00                  India  Hyderabad   India  \n",
       "4  21:36:00                  India     Mumbai   India  "
      ]
     },
     "execution_count": 67,
     "metadata": {},
     "output_type": "execute_result"
    }
   ],
   "source": [
    "df_final.head()"
   ]
  },
  {
   "cell_type": "code",
   "execution_count": 68,
   "metadata": {},
   "outputs": [
    {
     "data": {
      "text/plain": [
       "India                   2794\n",
       "Philippines               49\n",
       "Bangladesh                 9\n",
       "Nigeria                    9\n",
       "Indonesia                  8\n",
       "Malaysia                   5\n",
       "Ghana                      5\n",
       "United States              5\n",
       "United Arab Emirates       4\n",
       "Pakistan                   4\n",
       "Maldives                   3\n",
       "South Africa               3\n",
       "United Kingdom             3\n",
       "Singapore                  2\n",
       "Australia                  2\n",
       "Spain                      2\n",
       "Zambia                     2\n",
       "Algeria                    2\n",
       "Saudi Arabia               2\n",
       "Morocco                    2\n",
       "Greece                     2\n",
       "Kenya                      1\n",
       "Canada                     1\n",
       "Belgium                    1\n",
       "Zimbabwe                   1\n",
       "Italy                      1\n",
       "Lebanon                    1\n",
       "Uganda                     1\n",
       "Egypt                      1\n",
       "Namibia                    1\n",
       "South Korea                1\n",
       "Turkey                     1\n",
       "Romania                    1\n",
       "Ireland                    1\n",
       "Oman                       1\n",
       "Denmark                    1\n",
       "Qatar                      1\n",
       "Name: Country, dtype: int64"
      ]
     },
     "execution_count": 68,
     "metadata": {},
     "output_type": "execute_result"
    }
   ],
   "source": [
    "df_final['Country'].value_counts()"
   ]
  },
  {
   "cell_type": "markdown",
   "metadata": {},
   "source": [
    "### Creating The Dictionary For State Column Comprising Of All The State Names Corresponding To The City Names\n",
    "***For International States(In Some Cases The User Provide Country Name in the Original City column for masterclass registeration So, country Name and state is filled with the That Name. So,International states are not useful in visualization\n",
    "We will use only the Indian States for state wise analysis and visualization***"
   ]
  },
  {
   "cell_type": "code",
   "execution_count": 69,
   "metadata": {},
   "outputs": [],
   "source": [
    "states={\n",
    "#Indian states\n",
    "\"Agartala\" : \"Tripura\",\"Agra\" : \"Uttar Pradesh\",\"Ahmedabad\" : \"Gujarat\",\"Ahmednagar\" : \"Maharashtra\",\n",
    "\"Airoli\" : \"Maharashtra\",\"Aizawl\" : \"Mizoram\",\"Ajmer\" : \"Rajasthan\",\"Akola\" : \"Maharashtra\",\"Alappuzha\" : \"Kerala\",\n",
    "\"Alibag\" : \"Maharashtra\",\"Aligarh\" : \"Uttar Pradesh\",\"Allahabad\" : \"Uttar Pradesh\",\"Ambajogai\" : \"Maharashtra\",\n",
    "\"Ambikapur\" : \"Chhattisgarh\",\"Ambur\" : \"Tamil Nadu\",\"Amravati\" : \"Maharashtra\",\"Amritsar\" : \"Punjab\",\"Anand\" : \"Gujarat\",\n",
    "\"Anantapur\" : \"Andhra Pradesh\",\"Ankleshwar\" : \"Gujarat\",\"Ankola\" : \"Karnataka\",\"Ariyalur\" : \"Tamil Nadu\",\"Arrah\" : \"Bihar\",\n",
    "\"Arwal\" : \"Bihar\",\"Asansol\" : \"West Bengal\",\"Assam\" : \"Assam\",\"Auraiya\" : \"Uttar Pradesh\",\"Aurangabad\" : \"Maharashtra\",\n",
    "\"Ayodhya\" : \"Uttar Pradesh\",\"Azamgarh\" : \"Uttar Pradesh\",\"Baidyapur, Burdwan\" : \"West Bengal\",\"Balangir\" : \"Odisha\",\n",
    "\"Ballabgarh\" : \"Haryana\",\"Ballari\" : \"Karnataka\",\"Balliya\" : \"Uttar Pradesh\",\"Balurghat\" : \"West Bengal\",\n",
    "\"Bankura\" : \"West Bengal\",\"Baramati\" : \"Maharashtra\",\"Bareilly,Uttar Pradesh\" : \"Uttar Pradesh\",\n",
    "\"Bareli, Madhya Pradesh\" : \"Madhya Pradesh\",\"Bargarh\" : \"Odisha\",\"Barh\" : \"Bihar\",\"Baripada\" : \"Odisha\",\n",
    "\"Bastar\" : \"Chhattisgarh\",\"Bathinda\" : \"Punjab\",\"Beawar\" : \"Rajasthan\",\"Beed\" : \"Maharashtra\",\"Begusarai\" : \"Bihar\",\n",
    "\"Belgaum\" : \"Karnataka\",\"Beltola Tiniali\" : \"Assam\",\"Bengaluru\" : \"Karnataka\",\"Bhagalpur\" : \"Bihar\",\n",
    "\"Bharatpur\" : \"Rajasthan\",\"Bhilai\" : \"Chhattisgarh\",\"Bhilwara\" : \"Rajasthan\",\"Bhopal\" : \"Madhya Pradesh\",\n",
    "\"Bhubaneswar\" : \"Odisha\",\"Bhusawal\" : \"Maharashtra\",\"Bidar\" : \"Karnataka\",\"Bihar\" : \"Bihar\",\"Biharsharif\" : \"Bihar\",\n",
    "\"Bijni\" : \"Assam\",\"Bikramganj\" : \"Bihar\",\"Bilasipara\" : \"Assam\",\"Bilaspur\" : \"Chhattisgarh\",\"Bodhan\" : \"Telangana\",\n",
    "\"Boisar\" : \"Maharashtra\",\"Bokaro Steel City\" : \"Jharkhand\",\"Bongaigaon\" : \"Assam\",\"Bulandshahr\" : \"Uttar Pradesh\",\n",
    "\"Burdwan\" : \"West Bengal\",\"Burhanpur\" : \"Madhya Pradesh\",\"Buxar\" : \"Bihar\",\"Calicut\" : \"Kerala\",\"Chabua\" : \"Assam\",\n",
    "\"Chakdaha\" : \"West Bengal\",\"Chamarajnagar\" : \"Karnataka\",\"Chandigarh\" : \"Punjab\",\"Chapra\" : \"Bihar\",\"Chengannur\" : \"Kerala\",\n",
    "\"Chennai\" : \"Tamil Nadu\",\"Chhatarpur\" : \"Madhya Pradesh\",\"Chikarada\" : \"Odisha\",\"Chinchwad\" : \"Maharashtra\",\n",
    "\"Chirimiri\" : \"Chhattisgarh\",\"Chittaranjan\" : \"West Bengal\",\"Chittorgarh\" : \"Rajasthan\",\"Cochin\" : \"Kerala\",\n",
    "\"Coimbatore\" : \"Tamil Nadu\",\"Cooch Behar\" : \"West Bengal\",\"Dapoli\" : \"Maharashtra\",\"Darbhanga\" : \"Bihar\",\n",
    "\"Dasmarinas\" : \"Philippines\",\"Dehradun\" : \"Uttarakhand\",\"Delhi\" : \"Delhi\",\"Deulgaon Raja\" : \"Maharashtra\",\n",
    "\"Dewas\" : \"Madhya Pradesh\",\"Dhanbad\" : \"Jharkhand\",\"Dharamshala\" : \"Himachal Pradesh\",\"Dharmapuri\" : \"Tamil Nadu\",\n",
    "\"Dhenkanal\" : \"Odisha\",\"Dhule\" : \"Maharashtra\",\"Dibrugarh\" : \"Assam\",\"Digboi\" : \"Assam\",\"Dimapur\" : \"Nagaland\",\n",
    "\"Dumka\" : \"Jharkhand\",\"Durg\" : \"Chhattisgarh\",\"Durgapur\" : \"West Bengal\",\"Eluru\" : \"Andhra Pradesh\",\"Ernakulam\" : \"Kerala\",\n",
    "\"Erode\" : \"Tamil Nadu\",\"Faridabad\" : \"Haryana\",\"Farrukhabad\" : \"Uttar Pradesh\",\"Gadag\" : \"Karnataka\",\n",
    "\"Gadarpur\" : \"Uttarakhand\",\"Gandevi\" : \"Gujarat\",\"Gandhidham\" : \"Gujarat\",\"Gandhinagar\" : \"Gujarat\",\n",
    "\"Gangapur City\" : \"Rajasthan\",\"Gangtok\" : \"Rajasthan\",\"Gaya\" : \"Bihar\",\"Ghaziabad\" : \"Uttar Pradesh\",\"Goa\" : \"Goa\",\n",
    "\"Goalpara\" : \"Assam\",\"Godhara\" : \"Gujarat\",\"Gohpur\" : \"Assam\",\"Golaghat\" : \"Assam\",\"Gonda\" : \"Maharashtra\",\n",
    "\"Gondia\" : \"Maharashtra\",\"Gopalganj\" : \"Bihar\",\"Gorakhpur\" : \"Uttar Pradesh\",\"Goregaon\" : \"Maharashtra\",\n",
    "\"Greater Noida\" : \"Uttar Pradesh\",\"Gujarat\" : \"Gujarat\",\"Gumla\" : \"Jharkhand\",\"Guntur\" : \"Andhra Pradesh\",\n",
    "\"Gurugram\" : \"Haryana\",\"Guwahati\" : \"Assam\",\"Gwalior\" : \"Madhya Pradesh\",\"Haflong\" : \"Assam\",\"Hajipur\" : \"Bihar\",\n",
    "\"Haldwani\" : \"Uttarakhand\",\"Hapur\" : \"Uttar Pradesh\",\"Harda\" : \"Madhya Pradesh\",\"Hardoi\" : \"Uttar Pradesh\",\n",
    "\"Haridwar\" : \"Uttarakhand\",\"Haryana\" : \"Haryana\",\"Hingoli\" : \"Maharashtra\",\"Hisar\" : \"Haryana\",\"Hooghly\" : \"West Bengal\",\n",
    "\"Hoshangabad\" : \"Madhya Pradesh\",\"Hosur\" : \"Tamil Nadu\",\"Hyderabad\" : \"Telangana\",\"Ichalkaranji\" : \"Maharashtra\",\n",
    "\"Imphal\" : \"Manipur\",\"Indore\" : \"Madhya Pradesh\",\"Inkollu\" : \"Andhra Pradesh\",\n",
    "\"Islampur\" : \"West Bengal\",\"Itanagar\" : \"Arunachal Pradesh\",\"Jabalpur\" : \"Madhya Pradesh\",\"Jagdalpur\" : \"Chhattisgarh\",\n",
    "\"Jahanabad\" : \"Bihar\",\"Jaipur\" : \"Rajasthan\",\"Jaitu\" : \"Punjab\",\"Jajpur\" : \"Odisha\",\"Jalandhar\" : \"Punjab\",\n",
    "\"Jalgaon\" : \"Maharashtra\",\"Jalna\" : \"Maharashtra\",\"Jalore\" : \"Rajasthan\",\"Jammu\" : \"Jammu and Kashmir\",\n",
    "\"Jammu And Kashmir\" : \"Jammu and Kashmir\",\"Jamnagar\" : \"Gujarat\",\"Jamshedpur\" : \"Jharkhand\",\"Janjgir\" : \"Chhattisgarh\",\n",
    "\"Jaunpur\" : \"Uttar Pradesh\",\"Jehanabad\" : \"Bihar\",\"Jeypore\" : \"Odisha\",\"Jhajjar\" : \"Haryana\",\"Jhansi\" : \"Uttar Pradesh\",\n",
    "\"Jharkhand\" : \"Jharkhand\",\"Jhunjhunu\" : \"Rajasthan\",\"Jind\" : \"Haryana\",\"Jodhpur\" : \"Rajasthan\",\"Jorhat\" : \"Assam\",\n",
    "\"Kadapa\" : \"Andhra Pradesh\",\"Kakinada\" : \"Andhra Pradesh\",\"Kalaburagi\" : \"Karnataka\",\"Kalady\" : \"Kerala\",\n",
    "\"Kalyan,Maharashtra\" : \"Maharashtra\",\"Kalyani, West Bengal\" : \"West Bengal\",\"Kamrup Metropolitan\" : \"Assam\",\n",
    "\"Kanchipuram\" : \"Tamil Nadu\",\"Kangra\" : \"Himachal Pradesh\",\"Kannur\" : \"Kerala\",\"Kanpur\" : \"Uttar Pradesh\",\n",
    "\"Karad\" : \"Maharashtra\",\"Karauli\" : \"Rajasthan\",\"Karbi Anglong\" : \"Assam\",\"Karimnagar\" : \"Telangana\",\n",
    "\"Karkala\" : \"Karnataka\",\"Karnal\" : \"Haryana\",\"Kasaragod\" : \"Kerala\",\"Kathua\" : \"Jammu and Kashmir\",\"Katihar\" : \"Bihar\",\n",
    "\"Katni\" : \"Madhya Pradesh\",\"Kekri\" : \"Rajasthan\",\"Kerala\" : \"Kerala\",\"Kesinga\" : \"Odisha\",\"Khambhat\" : \"Gujarat\",\n",
    "\"Khandwa\" : \"Madhya Pradesh\",\"Kharghar\" : \"Maharashtra\",\"Khariar\" : \"Odisha\",\"Khatima\" : \"Uttarakhand\",\"Khordha\" : \"Odisha\",\n",
    "\"Kochi\" : \"Kerala\",\"Kohima\" : \"Nagaland\",\"Kolar\" : \"Karnataka\",\"Kolhapur\" : \"Maharashtra\",\"Kolkata\" : \"West Bengal\",\n",
    "\"Kollam\" : \"Kerala\",\"Kondagaon\" : \"Chhattisgarh\",\"Kondapalli\" : \"Andhra Pradesh\",\"Kopargaon\" : \"Maharashtra\",\n",
    "\"Koraput\" : \"Odisha\",\"Korba\" : \"Chhattisgarh\",\"Kosi Kalan\" : \"Uttar Pradesh\",\"Kota\" : \"Rajasthan\",\"Kottayam\" : \"Kerala\",\n",
    "\"Kozhikode\" : \"Kerala\",\"Kuchaman City\" : \"Rajasthan\",\"Kuppam\" : \"Andhra Pradesh\",\"Kurukshetra\" : \"Haryana\",\n",
    "\"Ladakh\" : \"Ladakh\",\"Lakhimpur\" : \"Uttar Pradesh\",\"Latur\" : \"Maharashtra\",\"Leh\" : \"Ladakh\",\n",
    "\"Lohardaga\" : \"Jharkhand\",\"Lonavala\" : \"Maharashtra\",\"Loni\" : \"Uttar Pradesh\",\n",
    "\"Lucknow\" : \"Uttar Pradesh\",\"Ludhiana\" : \"Punjab\",\"Lunawada\" : \"Gujarat\",\"Madhubani, Bihar\" : \"Bihar\",\n",
    "\"Madhya Pradesh\" : \"Madhya Pradesh\",\"Madurai\" : \"Tamil Nadu\",\"Maharashtra\" : \"Maharashtra\",\"Maihar\" : \"Madhya Pradesh\",\n",
    "\"Malappuram\" : \"Kerala\",\"Malegaon\" : \"Maharashtra\",\"Malkapur\" : \"Maharashtra\",\"Malout\" : \"Punjab\",\n",
    "\"Manapparai\" : \"Tamil Nadu\",\"Manchar\" : \"Maharashtra\",\"Mancherial\" : \"Telangana\",\"Mandsaur\" : \"Madhya Pradesh\",\n",
    "\"Mangaldai\" : \"Assam\",\"Mangalore\" : \"Karnataka\",\"Manipal\" : \"Karnataka\",\"Manjeri\" : \"Kerala\",\"Mansa\" : \"Punjab\",\n",
    "\"Mapusa\" : \"Goa\",\"Margao\" : \"Goa\",\"Mathura\" : \"Uttar Pradesh\",\"Meerut\" : \"Uttar Pradesh\",\"Meghalaya\" : \"Meghalaya\",\n",
    "\"Mohali\" : \"Punjab\",\"Moradabad\" : \"Uttar Pradesh\",\"Morgaon\" : \"Maharashtra\",\"Morigaon\" : \"Assam\",\"Motihari\" : \"Bihar\",\n",
    "\"Mudbidri\" : \"Karnataka\",\"Mudipu\" : \"Karnataka\",\"Mujaffarpur\" : \"Bihar\",\"Mukteshwar\" : \"Uttarakhand\",\n",
    "\"Mumbai\" : \"Maharashtra\",\"Munger\" : \"Bihar\",\"Muradnagar\" : \"Uttar Pradesh\",\"Muzaffarpur\" : \"Bihar\",\"Mysuru\" : \"Karnataka\",\n",
    "\"Nadiad\" : \"Gujarat\",\"Nagaon\" : \"Assam\",\"Nagda\" : \"Madhya Pradesh\",\"Nagercoil\" : \"Tamil Nadu\",\"Nagothane\" : \"Maharashtra\",\n",
    "\"Nagpur\" : \"Maharashtra\",\"Nainital\" : \"Uttarakhand\",\"Nala Sopara\" : \"Maharashtra\",\"Nalbari\" : \"Assam\",\n",
    "\"Nanded\" : \"Maharashtra\",\"Nashik\" : \"Maharashtra\",\"Nasik\" : \"Maharashtra\",\"Nasriganj\" : \"Bihar\",\n",
    "\"Navi Mumbai\" : \"Maharashtra\",\"Nawanshahr\" : \"Punjab\",\"Neemuch\" : \"Madhya Pradesh\",\"Nellore\" : \"Andhra Pradesh\",\n",
    "\"Nizamabad\" : \"Telangana\",\"Noida\" : \"Uttar Pradesh\",\"Nuh,Haryana\" : \"Haryana\",\"Odisha\" : \"Odisha\",\"Oragitok\" : \"Meghalaya\",\n",
    "\"Osmanabad\" : \"Maharashtra\",\"Oton\" : \"Philiphines\",\"Pachora\" : \"Maharashtra\",\"Palakkad\" : \"Kerala\",\n",
    "\"Palampur\" : \"Himachal Pradesh\",\"Palanpur\" : \"Gujarat\",\"Panaji\" : \"Goa\",\"Panchkula\" : \"Haryana\",\"Panipat\" : \"Haryana\",\n",
    "\"Parasi\" : \"Uttar Pradesh\",\"Parbhani\" : \"Maharashtra\",\"Parli\" : \"Maharashtra\",\"Pasighat\" : \"Arunachal Pradesh\",\n",
    "\"Pathalgaon\" : \"Chhattisgarh\",\"Pathanamthitta\" : \"Kerala\",\"Patiala\" : \"Punjab\",\"Patna\" : \"Bihar\",\"Phaltan\" : \"Maharashtra\",\n",
    "\"Pilani\" : \"Rajasthan\",\"Pimple Saudagar\" : \"Maharashtra\",\"Pimpri Chinchwad\" : \"Maharashtra\",\"Porbandar\" : \"Gujarat\",\n",
    "\"Prayagraj\" : \"Uttar Pradesh\",\"Pune\" : \"Maharashtra\",\"Puri\" : \"Odisha\",\"Pusad\" : \"Maharashtra\",\"Puttur\" : \"Karnataka\",\n",
    "\"Raebareli\" : \"Uttar Pradesh\",\"Raichur\" : \"Karnataka\",\"Raipur\" : \"Chhattisgarh\",\"Rajabala\" : \"Meghalaya\",\n",
    "\"Rajam\" : \"Andhra Pradesh\",\"Rajasthan\" : \"Rajasthan\",\"Rajkot\" : \"Gujarat\",\"Rajnandgaon\" : \"Chhattisgarh\",\n",
    "\"Ranchi\" : \"Jharkhand\",\"Rasra\" : \"Uttar Pradesh\",\"Ratlam\" : \"Madhya Pradesh\",\"Ratnagiri\" : \"Maharashtra\",\n",
    "\"Rayagada\" : \"Odisha\",\"Rewa\" : \"Madhya Pradesh\",\"Rewari\" : \"Haryana\",\"Robertsganj\" : \"Uttar Pradesh\",\"Rohtak\" : \"Haryana\",\n",
    "\"Roorkee\" : \"Uttarakhand\",\"Rourkela\" : \"Odisha\",\"Rupnagar\" : \"Punjab\",\"Sagar\" : \"Madhya Pradesh\",\n",
    "\"Saharanpur\" : \"Uttar Pradesh\",\"Sahibganj\" : \"Jharkhand\",\"Salem\" : \"Tamil Nadu\",\"Samastipur\" : \"Bihar\",\n",
    "\"Sanchi\" : \"Madhya Pradesh\",\"Sangareddy\" : \"Telangana\",\"Sangli\" : \"Maharashtra\",\"Santrampur\" : \"Gujarat\",\n",
    "\"Sasaram\" : \"Bihar\",\"Satara\" : \"Maharashtra\",\"Satna\" : \"Madhya Pradesh\",\"Secunderabad\" : \"Telangana\",\n",
    "\"Shadnagar\" : \"Telangana\",\"Shahada\" : \"Maharashtra\",\"Shahjahanpur\" : \"Uttar Pradesh\",\"Shamli\" : \"Uttar Pradesh\",\n",
    "\"Shani Shingnapur\" : \"Maharashtra\",\"Sheoganj\" : \"Rajasthan\",\"Shillong\" : \"Meghalaya\",\"Shimla\" : \"Himachal Pradesh\",\n",
    "\"Shirdi\" : \"Maharashtra\",\"Sibsagar\" : \"Assam\",\"Silchar\" : \"Assam\",\"Siliguri\" : \"West Bengal\",\"Sitamarhi\" : \"Bihar\",\n",
    "\"Sivasagar\" : \"Assam\",\"Siwan\" : \"Bihar\",\"Solapur\" : \"Maharashtra\",\"Sonbhadra\" : \"Uttar Pradesh\",\n",
    "\"Sri Ganganagar\" : \"Rajasthan\",\"Srimadhopur\" : \"Rajasthan\",\"Srinagar\" : \"Jammu and Kashmir\",\"Suchitra\" : \"Telangana\",\n",
    "\"Sullurpeta\" : \"Andhra Pradesh\",\"Sultanpur\" : \"Uttar Pradesh\",\"Surabaya\" : \"Indonesia\",\"Surat\" : \"Gujarat\",\n",
    "\"Surjapur\" : \"West Bengal\",\"Talasari\" : \"Maharashtra\",\"Tamilnadu\" : \"Tamil Nadu\",\"Tezpur\" : \"Assam\",\"Thalassery\" : \"Kerala\",\n",
    "\"Thane\" : \"Maharashtra\",\"Theni Allinagaram\" : \"Tamil Nadu\",\"Thiruvalla\" : \"Kerala\",\"Thiruvananthapuram\" : \"Kerala\",\n",
    "\"Thrippunithura\" : \"Kerala\",\"Thrissur\" : \"Kerala\",\"Tinsukia\" : \"Assam\",\"Tiruchirappalli\" : \"Tamil Nadu\",\n",
    "\"Tirupati\" : \"Andhra Pradesh\",\"Tiruvalla\" : \"Kerala\",\"Trivandrum\" : \"Kerala\",\"Tuljapur\" : \"Maharashtra\",\n",
    "\"Tumakuru\" : \"Karnataka\",\"Tumkur\" : \"Karnataka\",\"Tummalagunta\" : \"Andhra Pradesh\",\"Tura\" : \"Meghalaya\",\n",
    "\"Udaipur, Tripura\" : \"Tripura\",\"Udaipur,Rajasthan\" : \"Rajasthan\",\"Udupi\" : \"Karnataka\",\"Ujjain\" : \"Madhya Pradesh\",\n",
    "\"Uttarakhand\" : \"Uttarakhand\",\"Vadodara\" : \"Gujarat\",\"Valsad\" : \"Gujarat\",\"Varanasi\" : \"Uttar Pradesh\",\n",
    "\"Vasco Da Gama\" : \"Goa\",\"Velachery\" : \"Tamil Nadu\",\"Vellore\" : \"Tamil Nadu\",\"Vijayapur\" : \"Karnataka\",\n",
    "\"Vijayawada\" : \"Andhra Pradesh\",\"Vijaypur\" : \"Madhya Pradesh\",\"Visakhapatnam\" : \"Andhra Pradesh\",\n",
    "\"Vizianagaram\" : \"Andhra Pradesh\",\"Vrindavan\" : \"Uttar Pradesh\",\"Wai\" : \"Maharashtra\",\"Wani\" : \"Maharashtra\",\n",
    "\"Wanwarla,Maharashtra\" : \"Maharashtra\",\"Warangal\" : \"Telangana\",\"Wardha\" : \"Maharashtra\",\"Washi\" : \"Maharashtra\",\n",
    "\"Washim\" : \"Maharashtra\",\"West Bengal\" : \"West Bengal\",\"West Godavari\" : \"Andhra Pradesh\",\"Yamunanagar\" : \"Haryana\",\n",
    "\"Yavatmal\" : \"Maharashtra\",\"Zirakpur\" : \"Punjab\",\"Baidyapur\" : \"West Bengal\",\n",
    "\n",
    "#International states    \n",
    "\"Accra\" : \"Accra\",\"Algiers\" : \"Algiers\",\"Ansan\" : \"Gyeonggi Province\",\"Athens\" : \"Athens\",\"Bari\" : \"Italy\",\n",
    "\"Bacolod City\" : \"Negros Occidental\",\"Bacoor\" : \"Cavite\",\"Baguio City\" : \"Benguet\",\"Baler\" : \"Aurora\",\n",
    "\"Bandung\" : \" West Java province\",\"Bari\" : \"Metropolitan City of Bari\",\"Bekasi\" : \" West Java province\",\n",
    "\"Brussels\" : \"Brussels\",\"Bustos Bulacan\" : \"Bulacan\",\"Cagayan De Oro City\" : \"Misamis Oriental\",\"Cainta Rizal\" : \"Rizal\",\n",
    "\"Calabar\" : \"Calabar\",\"Caloocan\" : \"Manila\",\"Casablanca\" : \"Casablanca-Settat\",\"Cavite\" : \"Calabarzon\",\n",
    "\"Chattogram\" : \"Chittagong Division\",\"Cluj-Napoca\" : \"Cluj-Napoca\",\"Damietta\" : \"Roman province\",\"Imus\" : \"Philippines\",\n",
    "\"Dasmarinas\" : \"Cavite Province\",\"Davao City\" : \"Mindanao\",\"Dhaka\" : \"Dhaka\",\"Doha\" : \"Doha\",\"Dubai\" : \"Dubai\",\n",
    "\"Dublin\" : \"Dublin\",\"Edmonton\" : \"Alberta\",\"Estero\" : \"Santiago del Estero provincia\",\"Frederick\" : \"Baltimore–Washington \",\n",
    "\"General Trias City\" : \"Cavite Province\",\"Gombe\" : \"Tanzania\",\"Gresik Regency\" : \"East Java\",\"Guagua\" : \" Central Luzon\",\n",
    "\"Harare\" : \"Harare Province\",\"Houston\" : \"Texas\",\"Ibadan\" : \"Ibadan\",\"Iloilo\" : \"Iloilo\",\"Imus\" : \"Cavite Province\",\n",
    "\"Istanbul\" : \"Istanbul\",\"Jakarta\" : \"Jakarta\",\"Johannesburg\" : \"Gauteng\",\"Kampala\" : \"Kampala\",\"Karachi\" : \"Sindh Province\",\n",
    "\"Katsina\" : \"Katsina\",\"Kolding\" : \"Syddanmark\",\"Kuala Lumpur\" : \"Kuala Lumpur\",\"Lagos\" : \"Lagos\",\n",
    "\"Lahore\" : \"Pakistan's Punjab province\",\"Las Pinas\" : \"Metro Manila\",\"Lebanon-Saida\" : \"Saida\",\"London\" : \"London\",\n",
    "\"Los Banos\" : \"Laguna\",\"Lusaka\" : \"Lusaka Province\",\"Malaysia\" : \"Malaysia\",\"Male\" : \"Male\",\"Mandaluyong\" : \"Metro Manila\",\n",
    "\"Manila\" : \"Metro Manila\",\"Maramag\" : \"Bukidnon\",\"Marrakech\" : \"Marrakesh-Safi\",\"Medina\" : \"Medina Province\",\n",
    "\"Melbourne\" : \"Victoria\",\"Miri\" : \"Sarawak\",\"Muntinlupa\" : \"Metro Manila\",\"Muscat\" : \"Muscat\",\"Nairobi\" : \"Nairobi\",\n",
    "\"Nakonde\" : \"Muchinga Province\",\"Newcastle\" : \"Tyne and Wear\",\"Nottingham\" : \"York\",\"Oton\" : \"Iloilo Province\",\n",
    "\"Pasay City\" : \"Metro Manila\",\"Pasig\" : \"Metro Manila\",\"Philippines\" : \"Philippines\",\"Pretoria\" : \"Gauteng\",\n",
    "\"Quezon City\" : \"Metro Manila\",\"Riyadh\" : \"Riyadh Province\",\"Saida\" : \"Algeria\",\"Samarinda\" : \"East Kalimantan\",\n",
    "\"San Carlos City\" : \"Negros Occidental\",\"San Jose Del Monte\" : \"Bulacan\",\"Selangor\" : \"Selangor\",\n",
    "\"Silang\" : \"Cavite Province\",\"Singapore\" : \"Singapore\",\"Sofades\" : \"Karditsa\",\"Sunset Avenue, Atlanta\" : \"Georgia\",\n",
    "\"Sunyani\" : \"Bono\",\"Surabaya\" : \"East Java\",\"Surigao City\" : \"Surigao del Norte\",\"Taguig\" : \"Metro Manila\",\n",
    "\"Tarlac City\" : \"Tarlac City\",\"Tema\" : \"Greater Accra Region\",\"Uae\" : \"Uae\",\"Valencia City\" : \"Bukidnon\",\n",
    "\"Windhoek\" : \"Khomas Region\",\"Yobe\" : \"Yobe\",\"Zaria\" : \"Kaduna\",\"Lebanon-Saida\" : \"Lebanon\",\"London\" : \"England\",\n",
    "\"Chittagong\" : \"Chittagong Division\"\n",
    "}"
   ]
  },
  {
   "cell_type": "code",
   "execution_count": 70,
   "metadata": {},
   "outputs": [],
   "source": [
    "df_final['State'] = df_final['State'].map(states)"
   ]
  },
  {
   "cell_type": "code",
   "execution_count": 71,
   "metadata": {
    "scrolled": true
   },
   "outputs": [
    {
     "data": {
      "text/html": [
       "<div>\n",
       "<style scoped>\n",
       "    .dataframe tbody tr th:only-of-type {\n",
       "        vertical-align: middle;\n",
       "    }\n",
       "\n",
       "    .dataframe tbody tr th {\n",
       "        vertical-align: top;\n",
       "    }\n",
       "\n",
       "    .dataframe thead th {\n",
       "        text-align: right;\n",
       "    }\n",
       "</style>\n",
       "<table border=\"1\" class=\"dataframe\">\n",
       "  <thead>\n",
       "    <tr style=\"text-align: right;\">\n",
       "      <th></th>\n",
       "      <th>City</th>\n",
       "      <th>Masterclass</th>\n",
       "      <th>Date</th>\n",
       "      <th>Time</th>\n",
       "      <th>Place_Of_Registeration</th>\n",
       "      <th>State</th>\n",
       "      <th>Country</th>\n",
       "    </tr>\n",
       "  </thead>\n",
       "  <tbody>\n",
       "    <tr>\n",
       "      <th>0</th>\n",
       "      <td>Bhopal</td>\n",
       "      <td>Basics of Canva - A Graphic Design Platform</td>\n",
       "      <td>2020-08-09</td>\n",
       "      <td>21:10:00</td>\n",
       "      <td>India</td>\n",
       "      <td>Madhya Pradesh</td>\n",
       "      <td>India</td>\n",
       "    </tr>\n",
       "    <tr>\n",
       "      <th>1</th>\n",
       "      <td>Delhi</td>\n",
       "      <td>Basics of Canva - A Graphic Design Platform</td>\n",
       "      <td>2020-08-09</td>\n",
       "      <td>21:27:00</td>\n",
       "      <td>India</td>\n",
       "      <td>Delhi</td>\n",
       "      <td>India</td>\n",
       "    </tr>\n",
       "    <tr>\n",
       "      <th>2</th>\n",
       "      <td>Pune</td>\n",
       "      <td>Basics of Canva - A Graphic Design Platform</td>\n",
       "      <td>2020-08-09</td>\n",
       "      <td>21:29:00</td>\n",
       "      <td>India</td>\n",
       "      <td>Maharashtra</td>\n",
       "      <td>India</td>\n",
       "    </tr>\n",
       "    <tr>\n",
       "      <th>3</th>\n",
       "      <td>Hyderabad</td>\n",
       "      <td>Basics of Canva - A Graphic Design Platform</td>\n",
       "      <td>2020-08-09</td>\n",
       "      <td>21:30:00</td>\n",
       "      <td>India</td>\n",
       "      <td>Telangana</td>\n",
       "      <td>India</td>\n",
       "    </tr>\n",
       "    <tr>\n",
       "      <th>4</th>\n",
       "      <td>Mumbai</td>\n",
       "      <td>Basics of Canva - A Graphic Design Platform</td>\n",
       "      <td>2020-08-09</td>\n",
       "      <td>21:36:00</td>\n",
       "      <td>India</td>\n",
       "      <td>Maharashtra</td>\n",
       "      <td>India</td>\n",
       "    </tr>\n",
       "  </tbody>\n",
       "</table>\n",
       "</div>"
      ],
      "text/plain": [
       "        City                                  Masterclass        Date  \\\n",
       "0     Bhopal  Basics of Canva - A Graphic Design Platform  2020-08-09   \n",
       "1      Delhi  Basics of Canva - A Graphic Design Platform  2020-08-09   \n",
       "2       Pune  Basics of Canva - A Graphic Design Platform  2020-08-09   \n",
       "3  Hyderabad  Basics of Canva - A Graphic Design Platform  2020-08-09   \n",
       "4     Mumbai  Basics of Canva - A Graphic Design Platform  2020-08-09   \n",
       "\n",
       "       Time Place_Of_Registeration           State Country  \n",
       "0  21:10:00                  India  Madhya Pradesh   India  \n",
       "1  21:27:00                  India           Delhi   India  \n",
       "2  21:29:00                  India     Maharashtra   India  \n",
       "3  21:30:00                  India       Telangana   India  \n",
       "4  21:36:00                  India     Maharashtra   India  "
      ]
     },
     "execution_count": 71,
     "metadata": {},
     "output_type": "execute_result"
    }
   ],
   "source": [
    "df_final.head()"
   ]
  },
  {
   "cell_type": "code",
   "execution_count": 72,
   "metadata": {},
   "outputs": [
    {
     "data": {
      "text/plain": [
       "Maharashtra        902\n",
       "Delhi              299\n",
       "Karnataka          183\n",
       "Assam              172\n",
       "Uttar Pradesh      163\n",
       "                  ... \n",
       "Muscat               1\n",
       "Dublin               1\n",
       "East Kalimantan      1\n",
       "Karditsa             1\n",
       "Roman province       1\n",
       "Name: State, Length: 111, dtype: int64"
      ]
     },
     "execution_count": 72,
     "metadata": {},
     "output_type": "execute_result"
    }
   ],
   "source": [
    "df_final['State'].value_counts()"
   ]
  },
  {
   "cell_type": "markdown",
   "metadata": {},
   "source": [
    "### Now We Can Export Our Final Merged Dataset For The Visualization On Tableau"
   ]
  },
  {
   "cell_type": "code",
   "execution_count": 73,
   "metadata": {},
   "outputs": [],
   "source": [
    "df_final.to_excel('MKR_Masterclass_Finals_Dataset.xlsx')"
   ]
  }
 ],
 "metadata": {
  "kernelspec": {
   "display_name": "Python 3",
   "language": "python",
   "name": "python3"
  },
  "language_info": {
   "codemirror_mode": {
    "name": "ipython",
    "version": 3
   },
   "file_extension": ".py",
   "mimetype": "text/x-python",
   "name": "python",
   "nbconvert_exporter": "python",
   "pygments_lexer": "ipython3",
   "version": "3.8.3"
  }
 },
 "nbformat": 4,
 "nbformat_minor": 4
}
